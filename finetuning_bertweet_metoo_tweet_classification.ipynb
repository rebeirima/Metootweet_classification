{
  "cells": [
    {
      "cell_type": "markdown",
      "metadata": {
        "id": "view-in-github",
        "colab_type": "text"
      },
      "source": [
        "<a href=\"https://colab.research.google.com/github/rebeirima/Metootweet_classification/blob/main/finetuning_bertweet_metoo_tweet_classification.ipynb\" target=\"_parent\"><img src=\"https://colab.research.google.com/assets/colab-badge.svg\" alt=\"Open In Colab\"/></a>"
      ]
    },
    {
      "cell_type": "markdown",
      "metadata": {
        "id": "bSqjDZEr8wl7"
      },
      "source": [
        "# Fine Tuning DistilBERT for Metoo Tweets Classification"
      ]
    },
    {
      "cell_type": "markdown",
      "metadata": {
        "id": "5RrR0QCg8wmC"
      },
      "source": [
        "# Importing Python Libraries <a id='section01'></a>\n"
      ]
    },
    {
      "cell_type": "code",
      "execution_count": null,
      "metadata": {
        "tags": [],
        "colab": {
          "base_uri": "https://localhost:8080/"
        },
        "id": "gEdSALCB8wmC",
        "outputId": "5add9205-6389-4383-cf2a-11358a3fb3eb"
      },
      "outputs": [
        {
          "output_type": "stream",
          "name": "stdout",
          "text": [
            "Looking in indexes: https://pypi.org/simple, https://us-python.pkg.dev/colab-wheels/public/simple/\n",
            "Requirement already satisfied: emoji in /usr/local/lib/python3.10/dist-packages (2.2.0)\n",
            "Looking in indexes: https://pypi.org/simple, https://us-python.pkg.dev/colab-wheels/public/simple/\n",
            "Requirement already satisfied: contractions in /usr/local/lib/python3.10/dist-packages (0.1.73)\n",
            "Requirement already satisfied: textsearch>=0.0.21 in /usr/local/lib/python3.10/dist-packages (from contractions) (0.0.24)\n",
            "Requirement already satisfied: anyascii in /usr/local/lib/python3.10/dist-packages (from textsearch>=0.0.21->contractions) (0.3.2)\n",
            "Requirement already satisfied: pyahocorasick in /usr/local/lib/python3.10/dist-packages (from textsearch>=0.0.21->contractions) (2.0.0)\n",
            "Looking in indexes: https://pypi.org/simple, https://us-python.pkg.dev/colab-wheels/public/simple/\n",
            "Requirement already satisfied: transformers in /usr/local/lib/python3.10/dist-packages (4.29.0)\n",
            "Requirement already satisfied: filelock in /usr/local/lib/python3.10/dist-packages (from transformers) (3.12.0)\n",
            "Requirement already satisfied: huggingface-hub<1.0,>=0.11.0 in /usr/local/lib/python3.10/dist-packages (from transformers) (0.14.1)\n",
            "Requirement already satisfied: numpy>=1.17 in /usr/local/lib/python3.10/dist-packages (from transformers) (1.22.4)\n",
            "Requirement already satisfied: packaging>=20.0 in /usr/local/lib/python3.10/dist-packages (from transformers) (23.1)\n",
            "Requirement already satisfied: pyyaml>=5.1 in /usr/local/lib/python3.10/dist-packages (from transformers) (6.0)\n",
            "Requirement already satisfied: regex!=2019.12.17 in /usr/local/lib/python3.10/dist-packages (from transformers) (2022.10.31)\n",
            "Requirement already satisfied: requests in /usr/local/lib/python3.10/dist-packages (from transformers) (2.27.1)\n",
            "Requirement already satisfied: tokenizers!=0.11.3,<0.14,>=0.11.1 in /usr/local/lib/python3.10/dist-packages (from transformers) (0.13.3)\n",
            "Requirement already satisfied: tqdm>=4.27 in /usr/local/lib/python3.10/dist-packages (from transformers) (4.65.0)\n",
            "Requirement already satisfied: fsspec in /usr/local/lib/python3.10/dist-packages (from huggingface-hub<1.0,>=0.11.0->transformers) (2023.4.0)\n",
            "Requirement already satisfied: typing-extensions>=3.7.4.3 in /usr/local/lib/python3.10/dist-packages (from huggingface-hub<1.0,>=0.11.0->transformers) (4.5.0)\n",
            "Requirement already satisfied: urllib3<1.27,>=1.21.1 in /usr/local/lib/python3.10/dist-packages (from requests->transformers) (1.26.15)\n",
            "Requirement already satisfied: certifi>=2017.4.17 in /usr/local/lib/python3.10/dist-packages (from requests->transformers) (2022.12.7)\n",
            "Requirement already satisfied: charset-normalizer~=2.0.0 in /usr/local/lib/python3.10/dist-packages (from requests->transformers) (2.0.12)\n",
            "Requirement already satisfied: idna<4,>=2.5 in /usr/local/lib/python3.10/dist-packages (from requests->transformers) (3.4)\n"
          ]
        }
      ],
      "source": [
        "# Data Analysis\n",
        "import os\n",
        "import numpy as np\n",
        "import pandas as pd\n",
        "from tqdm import tqdm\n",
        "import random\n",
        "from tqdm.notebook import tqdm\n",
        "tqdm.pandas()\n",
        "\n",
        "#install \n",
        "!pip install emoji\n",
        "!pip install contractions\n",
        "!pip install transformers\n",
        "\n",
        "# Data Visualization\n",
        "from matplotlib import pyplot as plt\n",
        "import seaborn as sns\n",
        "\n",
        "#data preprocessing\n",
        "import re\n",
        "import string\n",
        "import nltk\n",
        "import emoji\n",
        "import contractions\n",
        "from nltk.corpus import stopwords\n",
        "from nltk.corpus import wordnet\n",
        "from nltk.tokenize import word_tokenize\n",
        "from nltk.stem import WordNetLemmatizer\n",
        "#nltk.download('stopwords')\n",
        "#nltk.download('punkt')\n",
        "#nltk.download('wordnet')\n",
        "#nltk.download('averaged_perceptron_tagger')\n",
        "#stop_words = set(stopwords.words('english')) - {'all'}\n",
        "\n",
        "# Machine Learning\n",
        "import transformers\n",
        "import torch\n",
        "from torch.utils.data import Dataset, DataLoader, RandomSampler, SequentialSampler \n",
        "from sklearn.datasets import make_classification\n",
        "from sklearn.neighbors import NearestNeighbors\n",
        "from sklearn import metrics\n",
        "from transformers import DistilBertTokenizer, DistilBertModel,BertForSequenceClassification, BertTokenizer\n",
        "from sklearn.feature_extraction.text import CountVectorizer, TfidfVectorizer\n",
        "from sklearn.model_selection import train_test_split\n",
        "from sklearn.metrics import accuracy_score, f1_score\n",
        "from imblearn.over_sampling import SMOTE\n",
        "from sklearn.linear_model import LogisticRegression\n",
        "from sklearn.naive_bayes import MultinomialNB\n",
        "from sklearn.tree import DecisionTreeClassifier\n",
        "from sklearn.ensemble import RandomForestClassifier\n",
        "#from xgboost import XGBClassifier\n"
      ]
    },
    {
      "cell_type": "markdown",
      "metadata": {
        "id": "xWtHUDc98wmE"
      },
      "source": [
        "# Pre-Processing the data <a id='section02'></a>\n"
      ]
    },
    {
      "cell_type": "code",
      "execution_count": null,
      "metadata": {
        "tags": [],
        "colab": {
          "base_uri": "https://localhost:8080/",
          "height": 221
        },
        "id": "-NYOYByc8wmF",
        "outputId": "ee3476cc-844e-44eb-9574-383e9e31390a"
      },
      "outputs": [
        {
          "output_type": "stream",
          "name": "stdout",
          "text": [
            "Total Training Records : 5527\n"
          ]
        },
        {
          "output_type": "execute_result",
          "data": {
            "text/plain": [
              "   Sarcasm  Allegation  Justification  Refutation  Support  Oppose  Hate  \\\n",
              "0      0.0         0.0            1.0         0.0      1.0     0.0   0.0   \n",
              "1      0.0         0.0            0.0         0.0      1.0     0.0   0.0   \n",
              "2      0.0         1.0            0.0         0.0      1.0     0.0   0.0   \n",
              "3      0.0         0.0            1.0         0.0      1.0     0.0   0.0   \n",
              "4      0.0         0.0            0.0         0.0      0.0     0.0   0.0   \n",
              "\n",
              "                                                text  \n",
              "0                                  account suspended  \n",
              "1  Domestic Violence Awareness Hasn’t Caught Up W...  \n",
              "2  It is 'high time' #MeToo named and shamed men ...  \n",
              "3  “There's this idea that persistence involves s...  \n",
              "4             Meredith’s #MeToo moment on #TheOffice  "
            ],
            "text/html": [
              "\n",
              "  <div id=\"df-06dfd6c7-92d1-4f19-bd16-9f6b61438552\">\n",
              "    <div class=\"colab-df-container\">\n",
              "      <div>\n",
              "<style scoped>\n",
              "    .dataframe tbody tr th:only-of-type {\n",
              "        vertical-align: middle;\n",
              "    }\n",
              "\n",
              "    .dataframe tbody tr th {\n",
              "        vertical-align: top;\n",
              "    }\n",
              "\n",
              "    .dataframe thead th {\n",
              "        text-align: right;\n",
              "    }\n",
              "</style>\n",
              "<table border=\"1\" class=\"dataframe\">\n",
              "  <thead>\n",
              "    <tr style=\"text-align: right;\">\n",
              "      <th></th>\n",
              "      <th>Sarcasm</th>\n",
              "      <th>Allegation</th>\n",
              "      <th>Justification</th>\n",
              "      <th>Refutation</th>\n",
              "      <th>Support</th>\n",
              "      <th>Oppose</th>\n",
              "      <th>Hate</th>\n",
              "      <th>text</th>\n",
              "    </tr>\n",
              "  </thead>\n",
              "  <tbody>\n",
              "    <tr>\n",
              "      <th>0</th>\n",
              "      <td>0.0</td>\n",
              "      <td>0.0</td>\n",
              "      <td>1.0</td>\n",
              "      <td>0.0</td>\n",
              "      <td>1.0</td>\n",
              "      <td>0.0</td>\n",
              "      <td>0.0</td>\n",
              "      <td>account suspended</td>\n",
              "    </tr>\n",
              "    <tr>\n",
              "      <th>1</th>\n",
              "      <td>0.0</td>\n",
              "      <td>0.0</td>\n",
              "      <td>0.0</td>\n",
              "      <td>0.0</td>\n",
              "      <td>1.0</td>\n",
              "      <td>0.0</td>\n",
              "      <td>0.0</td>\n",
              "      <td>Domestic Violence Awareness Hasn’t Caught Up W...</td>\n",
              "    </tr>\n",
              "    <tr>\n",
              "      <th>2</th>\n",
              "      <td>0.0</td>\n",
              "      <td>1.0</td>\n",
              "      <td>0.0</td>\n",
              "      <td>0.0</td>\n",
              "      <td>1.0</td>\n",
              "      <td>0.0</td>\n",
              "      <td>0.0</td>\n",
              "      <td>It is 'high time' #MeToo named and shamed men ...</td>\n",
              "    </tr>\n",
              "    <tr>\n",
              "      <th>3</th>\n",
              "      <td>0.0</td>\n",
              "      <td>0.0</td>\n",
              "      <td>1.0</td>\n",
              "      <td>0.0</td>\n",
              "      <td>1.0</td>\n",
              "      <td>0.0</td>\n",
              "      <td>0.0</td>\n",
              "      <td>“There's this idea that persistence involves s...</td>\n",
              "    </tr>\n",
              "    <tr>\n",
              "      <th>4</th>\n",
              "      <td>0.0</td>\n",
              "      <td>0.0</td>\n",
              "      <td>0.0</td>\n",
              "      <td>0.0</td>\n",
              "      <td>0.0</td>\n",
              "      <td>0.0</td>\n",
              "      <td>0.0</td>\n",
              "      <td>Meredith’s #MeToo moment on #TheOffice</td>\n",
              "    </tr>\n",
              "  </tbody>\n",
              "</table>\n",
              "</div>\n",
              "      <button class=\"colab-df-convert\" onclick=\"convertToInteractive('df-06dfd6c7-92d1-4f19-bd16-9f6b61438552')\"\n",
              "              title=\"Convert this dataframe to an interactive table.\"\n",
              "              style=\"display:none;\">\n",
              "        \n",
              "  <svg xmlns=\"http://www.w3.org/2000/svg\" height=\"24px\"viewBox=\"0 0 24 24\"\n",
              "       width=\"24px\">\n",
              "    <path d=\"M0 0h24v24H0V0z\" fill=\"none\"/>\n",
              "    <path d=\"M18.56 5.44l.94 2.06.94-2.06 2.06-.94-2.06-.94-.94-2.06-.94 2.06-2.06.94zm-11 1L8.5 8.5l.94-2.06 2.06-.94-2.06-.94L8.5 2.5l-.94 2.06-2.06.94zm10 10l.94 2.06.94-2.06 2.06-.94-2.06-.94-.94-2.06-.94 2.06-2.06.94z\"/><path d=\"M17.41 7.96l-1.37-1.37c-.4-.4-.92-.59-1.43-.59-.52 0-1.04.2-1.43.59L10.3 9.45l-7.72 7.72c-.78.78-.78 2.05 0 2.83L4 21.41c.39.39.9.59 1.41.59.51 0 1.02-.2 1.41-.59l7.78-7.78 2.81-2.81c.8-.78.8-2.07 0-2.86zM5.41 20L4 18.59l7.72-7.72 1.47 1.35L5.41 20z\"/>\n",
              "  </svg>\n",
              "      </button>\n",
              "      \n",
              "  <style>\n",
              "    .colab-df-container {\n",
              "      display:flex;\n",
              "      flex-wrap:wrap;\n",
              "      gap: 12px;\n",
              "    }\n",
              "\n",
              "    .colab-df-convert {\n",
              "      background-color: #E8F0FE;\n",
              "      border: none;\n",
              "      border-radius: 50%;\n",
              "      cursor: pointer;\n",
              "      display: none;\n",
              "      fill: #1967D2;\n",
              "      height: 32px;\n",
              "      padding: 0 0 0 0;\n",
              "      width: 32px;\n",
              "    }\n",
              "\n",
              "    .colab-df-convert:hover {\n",
              "      background-color: #E2EBFA;\n",
              "      box-shadow: 0px 1px 2px rgba(60, 64, 67, 0.3), 0px 1px 3px 1px rgba(60, 64, 67, 0.15);\n",
              "      fill: #174EA6;\n",
              "    }\n",
              "\n",
              "    [theme=dark] .colab-df-convert {\n",
              "      background-color: #3B4455;\n",
              "      fill: #D2E3FC;\n",
              "    }\n",
              "\n",
              "    [theme=dark] .colab-df-convert:hover {\n",
              "      background-color: #434B5C;\n",
              "      box-shadow: 0px 1px 3px 1px rgba(0, 0, 0, 0.15);\n",
              "      filter: drop-shadow(0px 1px 2px rgba(0, 0, 0, 0.3));\n",
              "      fill: #FFFFFF;\n",
              "    }\n",
              "  </style>\n",
              "\n",
              "      <script>\n",
              "        const buttonEl =\n",
              "          document.querySelector('#df-06dfd6c7-92d1-4f19-bd16-9f6b61438552 button.colab-df-convert');\n",
              "        buttonEl.style.display =\n",
              "          google.colab.kernel.accessAllowed ? 'block' : 'none';\n",
              "\n",
              "        async function convertToInteractive(key) {\n",
              "          const element = document.querySelector('#df-06dfd6c7-92d1-4f19-bd16-9f6b61438552');\n",
              "          const dataTable =\n",
              "            await google.colab.kernel.invokeFunction('convertToInteractive',\n",
              "                                                     [key], {});\n",
              "          if (!dataTable) return;\n",
              "\n",
              "          const docLinkHtml = 'Like what you see? Visit the ' +\n",
              "            '<a target=\"_blank\" href=https://colab.research.google.com/notebooks/data_table.ipynb>data table notebook</a>'\n",
              "            + ' to learn more about interactive tables.';\n",
              "          element.innerHTML = '';\n",
              "          dataTable['output_type'] = 'display_data';\n",
              "          await google.colab.output.renderOutput(dataTable, element);\n",
              "          const docLink = document.createElement('div');\n",
              "          docLink.innerHTML = docLinkHtml;\n",
              "          element.appendChild(docLink);\n",
              "        }\n",
              "      </script>\n",
              "    </div>\n",
              "  </div>\n",
              "  "
            ]
          },
          "metadata": {},
          "execution_count": 135
        }
      ],
      "source": [
        "train_data = pd.read_csv('final_tweets.csv')\n",
        "print(f\"Total Training Records : {len(train_data)}\")\n",
        "\n",
        "train_data = train_data.drop(['Country', 'TweetId'], axis=1)\n",
        "train_data[\"Hate\"] = train_data['Directed_Hate']+ train_data[\"Generalized_Hate\"]\n",
        "train_data = train_data.drop(['Directed_Hate', 'Generalized_Hate'], axis=1)\n",
        "\n",
        "# move the 'Other' column to the end\n",
        "train_data = train_data[['Sarcasm', 'Allegation', 'Justification', 'Refutation', 'Support', 'Oppose', 'Hate', 'text']]\n",
        "train_data.head()"
      ]
    },
    {
      "cell_type": "markdown",
      "metadata": {
        "id": "r6LbH4eS8wmF"
      },
      "source": [
        "## Data Cleaning & Removing noise\n",
        "\n",
        "- Lower case\n",
        "- Remove extra space"
      ]
    },
    {
      "cell_type": "code",
      "execution_count": null,
      "metadata": {
        "tags": [],
        "id": "6fHVj8y88wmG"
      },
      "outputs": [],
      "source": [
        "train_data[\"text\"] = train_data[\"text\"].str.lower()\n",
        "train_data[\"text\"] = train_data[\"text\"].str.replace(\"\\xa0\", \" \", regex=False).str.split().str.join(\" \")"
      ]
    },
    {
      "cell_type": "markdown",
      "metadata": {
        "id": "kKn19SPV8wmG"
      },
      "source": [
        "## Custom Preprocessing "
      ]
    },
    {
      "cell_type": "code",
      "execution_count": null,
      "metadata": {
        "tags": [],
        "id": "VDRk3m9R8wmG"
      },
      "outputs": [],
      "source": [
        "# Regex to remove all Non-Alpha Numeric and space\n",
        "# special_character_removal=re.compile(r'[^?!.,:a-z\\d ]',re.IGNORECASE)\n",
        "# regex to replace all numerics\n",
        "replace_numbers=re.compile(r'\\d+',re.IGNORECASE)\n",
        "def get_wordnet_pos(word):\n",
        "    tag = nltk.pos_tag([word])[0][1][0].upper()\n",
        "    tag_dict = {\"J\": wordnet.ADJ,\n",
        "                \"N\": wordnet.NOUN,\n",
        "                \"V\": wordnet.VERB,\n",
        "                \"R\": wordnet.ADV}\n",
        "    return tag_dict.get(tag, wordnet.NOUN)\n",
        "\n",
        "#played around with removing stop words and lemme the words\n",
        "def clean_text(text):\n",
        "    text = str(text)\n",
        "    # Removes contraction\n",
        "    text = contractions.fix(text)\n",
        "    # Changes emojis to words\n",
        "    text = emoji.demojize(text,  delimiters=(' ', ' '))\n",
        "    # Removes 'RT' from tweet\n",
        "    text = re.sub(r'RT[\\s]+', '', text)\n",
        "    # Remove Punctuation\n",
        "    text = re.sub(r'[^\\w\\s]', '', text)\n",
        "    # Removes capitalization\n",
        "    text = text.lower()\n",
        "    # Removes urls & user mentions from tweet\n",
        "    text = re.sub(r\"http\\S+|www\\S+|https\\S+|\\@\\w+\", ' ', text, flags=re.MULTILINE)\n",
        "    # Removes stopwords\n",
        "    #tokens = [w for w in word_tokenize(text) if not w in stop_words]\n",
        "    # Perfoms lemmatization on tokens\n",
        "    #lemmatizer = WordNetLemmatizer()\n",
        "    #lemma_words = [lemmatizer.lemmatize(w, get_wordnet_pos(w)) for w in word_tokenize(text)]\n",
        "    return text#\" \".join(lemma_words)\n"
      ]
    },
    {
      "cell_type": "code",
      "execution_count": null,
      "metadata": {
        "tags": [],
        "colab": {
          "base_uri": "https://localhost:8080/",
          "height": 49,
          "referenced_widgets": [
            "3433ae78c062469c9cf92a507f71c59b",
            "43d2142ccb2045a189f4ed1a16bb2c9f",
            "b016083a53bb4da4aca26de7a170157e",
            "1cc50ed7c1c74a549ff4d245538c721c",
            "8805da41b98e4b4aa973212e5aa14ad7",
            "56c67528a4184f2eafc9689f23cf8066",
            "5e2be0c21db4484cb7a71cb87d27ae27",
            "bd84ca91b43d4662a0dd742070b6522c",
            "d180b0c4a2344409ac7bdcea1251d068",
            "68939fedb92e430bb2696339ff6548c2",
            "570434bb861046dfb9ab8000e3ecb27a"
          ]
        },
        "id": "ro-RC4Fj8wmH",
        "outputId": "8849792d-f3ad-4253-f6cb-aa1eaee0f307"
      },
      "outputs": [
        {
          "output_type": "display_data",
          "data": {
            "text/plain": [
              "  0%|          | 0/5527 [00:00<?, ?it/s]"
            ],
            "application/vnd.jupyter.widget-view+json": {
              "version_major": 2,
              "version_minor": 0,
              "model_id": "3433ae78c062469c9cf92a507f71c59b"
            }
          },
          "metadata": {}
        }
      ],
      "source": [
        "train_data[\"text\"] = train_data[\"text\"].progress_apply(clean_text)"
      ]
    },
    {
      "cell_type": "code",
      "execution_count": null,
      "metadata": {
        "tags": [],
        "colab": {
          "base_uri": "https://localhost:8080/",
          "height": 204
        },
        "id": "myj-jyO28wmH",
        "outputId": "673c3c31-380f-4ebb-dd31-0a9dde165164"
      },
      "outputs": [
        {
          "output_type": "execute_result",
          "data": {
            "text/plain": [
              "   Sarcasm  Allegation  Justification  Refutation  Support  Oppose  Hate  \\\n",
              "0      0.0         0.0            1.0         0.0      1.0     0.0   0.0   \n",
              "1      0.0         0.0            0.0         0.0      1.0     0.0   0.0   \n",
              "2      0.0         1.0            0.0         0.0      1.0     0.0   0.0   \n",
              "3      0.0         0.0            1.0         0.0      1.0     0.0   0.0   \n",
              "4      0.0         0.0            0.0         0.0      0.0     0.0   0.0   \n",
              "\n",
              "                                                text  \n",
              "0                                  account suspended  \n",
              "1  domestic violence awareness has not caught up ...  \n",
              "2  it is high time metoo named and shamed men in ...  \n",
              "3  there is this idea that persistence involves s...  \n",
              "4                merediths metoo moment on theoffice  "
            ],
            "text/html": [
              "\n",
              "  <div id=\"df-237e452c-2cda-43bf-a53b-1daae7add063\">\n",
              "    <div class=\"colab-df-container\">\n",
              "      <div>\n",
              "<style scoped>\n",
              "    .dataframe tbody tr th:only-of-type {\n",
              "        vertical-align: middle;\n",
              "    }\n",
              "\n",
              "    .dataframe tbody tr th {\n",
              "        vertical-align: top;\n",
              "    }\n",
              "\n",
              "    .dataframe thead th {\n",
              "        text-align: right;\n",
              "    }\n",
              "</style>\n",
              "<table border=\"1\" class=\"dataframe\">\n",
              "  <thead>\n",
              "    <tr style=\"text-align: right;\">\n",
              "      <th></th>\n",
              "      <th>Sarcasm</th>\n",
              "      <th>Allegation</th>\n",
              "      <th>Justification</th>\n",
              "      <th>Refutation</th>\n",
              "      <th>Support</th>\n",
              "      <th>Oppose</th>\n",
              "      <th>Hate</th>\n",
              "      <th>text</th>\n",
              "    </tr>\n",
              "  </thead>\n",
              "  <tbody>\n",
              "    <tr>\n",
              "      <th>0</th>\n",
              "      <td>0.0</td>\n",
              "      <td>0.0</td>\n",
              "      <td>1.0</td>\n",
              "      <td>0.0</td>\n",
              "      <td>1.0</td>\n",
              "      <td>0.0</td>\n",
              "      <td>0.0</td>\n",
              "      <td>account suspended</td>\n",
              "    </tr>\n",
              "    <tr>\n",
              "      <th>1</th>\n",
              "      <td>0.0</td>\n",
              "      <td>0.0</td>\n",
              "      <td>0.0</td>\n",
              "      <td>0.0</td>\n",
              "      <td>1.0</td>\n",
              "      <td>0.0</td>\n",
              "      <td>0.0</td>\n",
              "      <td>domestic violence awareness has not caught up ...</td>\n",
              "    </tr>\n",
              "    <tr>\n",
              "      <th>2</th>\n",
              "      <td>0.0</td>\n",
              "      <td>1.0</td>\n",
              "      <td>0.0</td>\n",
              "      <td>0.0</td>\n",
              "      <td>1.0</td>\n",
              "      <td>0.0</td>\n",
              "      <td>0.0</td>\n",
              "      <td>it is high time metoo named and shamed men in ...</td>\n",
              "    </tr>\n",
              "    <tr>\n",
              "      <th>3</th>\n",
              "      <td>0.0</td>\n",
              "      <td>0.0</td>\n",
              "      <td>1.0</td>\n",
              "      <td>0.0</td>\n",
              "      <td>1.0</td>\n",
              "      <td>0.0</td>\n",
              "      <td>0.0</td>\n",
              "      <td>there is this idea that persistence involves s...</td>\n",
              "    </tr>\n",
              "    <tr>\n",
              "      <th>4</th>\n",
              "      <td>0.0</td>\n",
              "      <td>0.0</td>\n",
              "      <td>0.0</td>\n",
              "      <td>0.0</td>\n",
              "      <td>0.0</td>\n",
              "      <td>0.0</td>\n",
              "      <td>0.0</td>\n",
              "      <td>merediths metoo moment on theoffice</td>\n",
              "    </tr>\n",
              "  </tbody>\n",
              "</table>\n",
              "</div>\n",
              "      <button class=\"colab-df-convert\" onclick=\"convertToInteractive('df-237e452c-2cda-43bf-a53b-1daae7add063')\"\n",
              "              title=\"Convert this dataframe to an interactive table.\"\n",
              "              style=\"display:none;\">\n",
              "        \n",
              "  <svg xmlns=\"http://www.w3.org/2000/svg\" height=\"24px\"viewBox=\"0 0 24 24\"\n",
              "       width=\"24px\">\n",
              "    <path d=\"M0 0h24v24H0V0z\" fill=\"none\"/>\n",
              "    <path d=\"M18.56 5.44l.94 2.06.94-2.06 2.06-.94-2.06-.94-.94-2.06-.94 2.06-2.06.94zm-11 1L8.5 8.5l.94-2.06 2.06-.94-2.06-.94L8.5 2.5l-.94 2.06-2.06.94zm10 10l.94 2.06.94-2.06 2.06-.94-2.06-.94-.94-2.06-.94 2.06-2.06.94z\"/><path d=\"M17.41 7.96l-1.37-1.37c-.4-.4-.92-.59-1.43-.59-.52 0-1.04.2-1.43.59L10.3 9.45l-7.72 7.72c-.78.78-.78 2.05 0 2.83L4 21.41c.39.39.9.59 1.41.59.51 0 1.02-.2 1.41-.59l7.78-7.78 2.81-2.81c.8-.78.8-2.07 0-2.86zM5.41 20L4 18.59l7.72-7.72 1.47 1.35L5.41 20z\"/>\n",
              "  </svg>\n",
              "      </button>\n",
              "      \n",
              "  <style>\n",
              "    .colab-df-container {\n",
              "      display:flex;\n",
              "      flex-wrap:wrap;\n",
              "      gap: 12px;\n",
              "    }\n",
              "\n",
              "    .colab-df-convert {\n",
              "      background-color: #E8F0FE;\n",
              "      border: none;\n",
              "      border-radius: 50%;\n",
              "      cursor: pointer;\n",
              "      display: none;\n",
              "      fill: #1967D2;\n",
              "      height: 32px;\n",
              "      padding: 0 0 0 0;\n",
              "      width: 32px;\n",
              "    }\n",
              "\n",
              "    .colab-df-convert:hover {\n",
              "      background-color: #E2EBFA;\n",
              "      box-shadow: 0px 1px 2px rgba(60, 64, 67, 0.3), 0px 1px 3px 1px rgba(60, 64, 67, 0.15);\n",
              "      fill: #174EA6;\n",
              "    }\n",
              "\n",
              "    [theme=dark] .colab-df-convert {\n",
              "      background-color: #3B4455;\n",
              "      fill: #D2E3FC;\n",
              "    }\n",
              "\n",
              "    [theme=dark] .colab-df-convert:hover {\n",
              "      background-color: #434B5C;\n",
              "      box-shadow: 0px 1px 3px 1px rgba(0, 0, 0, 0.15);\n",
              "      filter: drop-shadow(0px 1px 2px rgba(0, 0, 0, 0.3));\n",
              "      fill: #FFFFFF;\n",
              "    }\n",
              "  </style>\n",
              "\n",
              "      <script>\n",
              "        const buttonEl =\n",
              "          document.querySelector('#df-237e452c-2cda-43bf-a53b-1daae7add063 button.colab-df-convert');\n",
              "        buttonEl.style.display =\n",
              "          google.colab.kernel.accessAllowed ? 'block' : 'none';\n",
              "\n",
              "        async function convertToInteractive(key) {\n",
              "          const element = document.querySelector('#df-237e452c-2cda-43bf-a53b-1daae7add063');\n",
              "          const dataTable =\n",
              "            await google.colab.kernel.invokeFunction('convertToInteractive',\n",
              "                                                     [key], {});\n",
              "          if (!dataTable) return;\n",
              "\n",
              "          const docLinkHtml = 'Like what you see? Visit the ' +\n",
              "            '<a target=\"_blank\" href=https://colab.research.google.com/notebooks/data_table.ipynb>data table notebook</a>'\n",
              "            + ' to learn more about interactive tables.';\n",
              "          element.innerHTML = '';\n",
              "          dataTable['output_type'] = 'display_data';\n",
              "          await google.colab.output.renderOutput(dataTable, element);\n",
              "          const docLink = document.createElement('div');\n",
              "          docLink.innerHTML = docLinkHtml;\n",
              "          element.appendChild(docLink);\n",
              "        }\n",
              "      </script>\n",
              "    </div>\n",
              "  </div>\n",
              "  "
            ]
          },
          "metadata": {},
          "execution_count": 139
        }
      ],
      "source": [
        "train_data.head()"
      ]
    },
    {
      "cell_type": "markdown",
      "metadata": {
        "id": "7zPyynsk8wmI"
      },
      "source": [
        "# Taking a Look at the Data <a id='section03'></a>\n",
        "\n",
        "Looking at all the labels and how many tweets per label. We want to see how unbalanced the data is. \n"
      ]
    },
    {
      "cell_type": "code",
      "execution_count": null,
      "metadata": {
        "id": "5_yKapYf8wmI",
        "outputId": "c83ded3a-966b-435c-d4a7-f264ee059382",
        "colab": {
          "base_uri": "https://localhost:8080/",
          "height": 428
        }
      },
      "outputs": [
        {
          "output_type": "display_data",
          "data": {
            "text/plain": [
              "<Figure size 640x480 with 1 Axes>"
            ],
            "image/png": "[encoded data removed]"
          },
          "metadata": {}
        }
      ],
      "source": [
        "category = ['Sarcasm', 'Allegation', 'Justification', 'Refutation', 'Support', 'Oppose', 'Hate']\n",
        "number_of_tweets = train_data.iloc[:, :7].sum()\n",
        "fig, ax = plt.subplots()\n",
        "ax.pie(number_of_tweets, labels=category, autopct='%1.1f%%')\n",
        "ax.set_title('Percent of Tweets per Category')\n",
        "plt.show()"
      ]
    },
    {
      "cell_type": "markdown",
      "metadata": {
        "id": "ktlnpgu88wmK"
      },
      "source": [
        "# MLSMOTE <a id='section03'></a>\n",
        "\n",
        "There is a high class imbalance in the dataset. We'll use SMOTE (Synthetic Minority Over-sampling Technique) to balance the class. \n"
      ]
    },
    {
      "cell_type": "code",
      "execution_count": null,
      "metadata": {
        "id": "_858GXvV8wmK"
      },
      "outputs": [],
      "source": [
        "def get_tail_label(df):\n",
        "    \"\"\"\n",
        "    Give tail label colums of the given target dataframe\n",
        "    \n",
        "    args\n",
        "    df: pandas.DataFrame, target label df whose tail label has to identified\n",
        "    \n",
        "    return\n",
        "    tail_label: list, a list containing column name of all the tail label\n",
        "    \n",
        "    columns = df.columns\n",
        "    n = len(columns)\n",
        "    irpl = np.zeros(n)\n",
        "    for column in range(n):\n",
        "        irpl[column] = df[columns[column]].value_counts()[1]\n",
        "    irpl = max(irpl)/irpl\n",
        "    mir = np.average(irpl)\n",
        "    tail_label = []\n",
        "    for i in range(n):\n",
        "        if irpl[i] > mir:\n",
        "            tail_label.append(columns[i])\n",
        "    \"\"\"\n",
        "    return ['Sarcasm', 'Allegation', 'Justification', 'Refutation', 'Oppose', 'Hate']\n",
        "\n",
        "def get_index(df):\n",
        "  \"\"\"\n",
        "  give the index of all tail_label rows\n",
        "  args\n",
        "  df: pandas.DataFrame, target label df from which index for tail label has to identified\n",
        "    \n",
        "  return\n",
        "  index: list, a list containing index number of all the tail label\n",
        "  \"\"\"\n",
        "  tail_labels = get_tail_label(df)\n",
        "  index = set()\n",
        "  for tail_label in tail_labels:\n",
        "    sub_index = set(df[df[tail_label]==1].index)\n",
        "    index = index.union(sub_index)\n",
        "  return list(index)\n",
        "\n",
        "def get_minority_instace(X, y):\n",
        "    \"\"\"\n",
        "    Give minority dataframe containing all the tail labels\n",
        "    \n",
        "    args\n",
        "    X: pandas.DataFrame, the feature vector dataframe\n",
        "    y: pandas.DataFrame, the target vector dataframe\n",
        "    \n",
        "    return\n",
        "    X_sub: pandas.DataFrame, the feature vector minority dataframe\n",
        "    y_sub: pandas.DataFrame, the target vector minority dataframe\n",
        "    \"\"\"\n",
        "    index = get_index(y)\n",
        "    X_sub = X[X.index.isin(index)].reset_index(drop = True)\n",
        "    y_sub = y[y.index.isin(index)].reset_index(drop = True)\n",
        "    return X_sub, y_sub\n",
        "\n",
        "def nearest_neighbour(X):\n",
        "    \"\"\"\n",
        "    Give index of 5 nearest neighbor of all the instance\n",
        "    \n",
        "    args\n",
        "    X: np.array, array whose nearest neighbor has to find\n",
        "    \n",
        "    return\n",
        "    indices: list of list, index of 5 NN of each element in X\n",
        "    \"\"\"\n",
        "    nbs=NearestNeighbors(n_neighbors=5,metric='euclidean',algorithm='kd_tree').fit(X)\n",
        "    euclidean,indices= nbs.kneighbors(X)\n",
        "    return indices\n",
        "\n",
        "def MLSMOTE(X,y, n_sample):\n",
        "    \"\"\"\n",
        "    Give the augmented data using MLSMOTE algorithm\n",
        "    \n",
        "    args\n",
        "    X: pandas.DataFrame, input vector DataFrame\n",
        "    y: pandas.DataFrame, feature vector dataframe\n",
        "    n_sample: int, number of newly generated sample\n",
        "    \n",
        "    return\n",
        "    new_X: pandas.DataFrame, augmented feature vector data\n",
        "    target: pandas.DataFrame, augmented target vector data\n",
        "    \"\"\"\n",
        "    indices2 = nearest_neighbour(X)\n",
        "    n = len(indices2)\n",
        "    new_X = np.zeros((n_sample, X.shape[1]))\n",
        "    target = np.zeros((n_sample, y.shape[1]))\n",
        "    for i in range(n_sample):\n",
        "        reference = random.randint(0,n-1)\n",
        "        neighbour = random.choice(indices2[reference,1:])\n",
        "        all_point = indices2[reference]\n",
        "        nn_df = y[y.index.isin(all_point)]\n",
        "        ser = nn_df.sum(axis = 0, skipna = True)\n",
        "        target[i] = np.array([1 if val>2 else 0 for val in ser])\n",
        "        ratio = random.random()\n",
        "        gap = X.loc[reference,:] - X.loc[neighbour,:]\n",
        "        new_X[i] = np.array(X.loc[reference,:] + ratio * gap)\n",
        "    new_X = pd.DataFrame(new_X, columns=X.columns)\n",
        "    target = pd.DataFrame(target, columns=y.columns)\n",
        "    new_X = pd.concat([X, new_X], axis=0)\n",
        "    target = pd.concat([y, target], axis=0)\n",
        "    return new_X, target"
      ]
    },
    {
      "cell_type": "markdown",
      "metadata": {
        "id": "rEmD-F7s8wmJ"
      },
      "source": [
        "# Test-train Split <a id='section03'></a>\n"
      ]
    },
    {
      "cell_type": "code",
      "execution_count": null,
      "metadata": {
        "id": "AeoIYSDe8wmJ"
      },
      "outputs": [],
      "source": [
        "# Train-Test Splitting\n",
        "#tweet_labels = ['Sarcasm', 'Allegation', 'Justification', 'Refutation', 'Support', 'Oppose', 'Hate']\n",
        "X = train_data.drop(columns=['Sarcasm', 'Allegation', 'Justification', 'Refutation', 'Support', 'Oppose', 'Hate'])\n",
        "y = train_data.drop(columns=['text'])\n",
        "#split when the columns are all in a list of labels \n",
        "#X = train_data.drop(columns=['label'])\n",
        "#y = train_data['label']\n",
        "#X = X.dropna(subset=[\"text\"])\n",
        "\n",
        "X_train, X_test, y_train, y_test = train_test_split(X, y, test_size=0.2, random_state=8)\n",
        "#print(X_train.shape, X_test.shape, y_train.shape, y_test.shape)  "
      ]
    },
    {
      "cell_type": "markdown",
      "source": [
        "Tokenization and Vectorization for MLSMOTE"
      ],
      "metadata": {
        "id": "edu1UlbeurW_"
      }
    },
    {
      "cell_type": "code",
      "source": [
        "tokenizer_bert = DistilBertTokenizer.from_pretrained('distilbert-base-uncased', truncation=True, do_lower_case=True)\n",
        "\n",
        "#not sure if this is how to use the BERT tokenizer with this vectorizer - gotta check this later\n",
        "# TF-IDF Vectorization on full training data\n",
        "tfidf_vectorizer = TfidfVectorizer(tokenizer=tokenizer_bert)\n",
        "X_tweets_tfidf = tfidf_vectorizer.fit_transform(X['text']) #this needs to be a df \n",
        "test_tweets_tfidf = tfidf_vectorizer.transform(y)\n",
        "print(X_tweets_tfidf.shape, test_tweets_tfidf.shape)\n",
        "\n",
        "X_tweets_tfidf = pd.DataFrame(X_tweets_tfidf.toarray())"
      ],
      "metadata": {
        "colab": {
          "base_uri": "https://localhost:8080/"
        },
        "id": "2lll9TCLuyOe",
        "outputId": "d5b3ab7b-7e6a-4b33-8c8f-1147a4506168"
      },
      "execution_count": null,
      "outputs": [
        {
          "output_type": "stream",
          "name": "stderr",
          "text": [
            "/usr/local/lib/python3.10/dist-packages/sklearn/feature_extraction/text.py:528: UserWarning: The parameter 'token_pattern' will not be used since 'tokenizer' is not None'\n",
            "  warnings.warn(\n"
          ]
        },
        {
          "output_type": "stream",
          "name": "stdout",
          "text": [
            "(5527, 2) (7, 2)\n"
          ]
        }
      ]
    },
    {
      "cell_type": "code",
      "source": [
        "X_sub, y_sub = get_minority_instace(X_tweets_tfidf, y)  # Getting minority samples of that datframe\n",
        "X_res, y_res = MLSMOTE(X_sub, y_sub, 100)  # Applying MLSMOTE to augment the dataframe"
      ],
      "metadata": {
        "id": "22h2udBuxSLi"
      },
      "execution_count": null,
      "outputs": []
    },
    {
      "cell_type": "code",
      "source": [
        "print(y_res)\n",
        "category = ['Sarcasm', 'Allegation', 'Justification', 'Refutation', 'Support', 'Oppose', 'Hate']\n",
        "number_of_tweets = y_res.iloc[:, :7].sum()\n",
        "fig, ax = plt.subplots()\n",
        "ax.pie(number_of_tweets, labels=category, autopct='%1.1f%%')\n",
        "ax.set_title('Percent of Tweets per Category')\n",
        "plt.show()"
      ],
      "metadata": {
        "colab": {
          "base_uri": "https://localhost:8080/",
          "height": 666
        },
        "id": "7PSceSzD8ICB",
        "outputId": "1ed93277-3a2f-4ee7-9852-2b59d244c0b7"
      },
      "execution_count": null,
      "outputs": [
        {
          "output_type": "stream",
          "name": "stdout",
          "text": [
            "    Sarcasm  Allegation  Justification  Refutation  Support  Oppose  Hate\n",
            "0       0.0         0.0            1.0         0.0      1.0     0.0   0.0\n",
            "1       0.0         1.0            0.0         0.0      1.0     0.0   0.0\n",
            "2       0.0         0.0            1.0         0.0      1.0     0.0   0.0\n",
            "3       0.0         0.0            1.0         0.0      1.0     0.0   0.0\n",
            "4       0.0         1.0            1.0         0.0      0.0     0.0   1.0\n",
            "..      ...         ...            ...         ...      ...     ...   ...\n",
            "95      0.0         0.0            1.0         0.0      1.0     0.0   0.0\n",
            "96      0.0         0.0            1.0         0.0      1.0     0.0   0.0\n",
            "97      0.0         0.0            1.0         0.0      1.0     0.0   0.0\n",
            "98      0.0         0.0            1.0         0.0      1.0     0.0   0.0\n",
            "99      0.0         0.0            1.0         0.0      1.0     0.0   0.0\n",
            "\n",
            "[1714 rows x 7 columns]\n"
          ]
        },
        {
          "output_type": "display_data",
          "data": {
            "text/plain": [
              "<Figure size 640x480 with 1 Axes>"
            ],
            "image/png": "[encoded data removed]"
          },
          "metadata": {}
        }
      ]
    },
    {
      "cell_type": "markdown",
      "metadata": {
        "id": "7XITy19E8wmK"
      },
      "source": [
        "## Removing id column and preparing labels into the single list column"
      ]
    },
    {
      "cell_type": "code",
      "execution_count": null,
      "metadata": {
        "tags": [],
        "id": "OSRhBEBA8wmL",
        "colab": {
          "base_uri": "https://localhost:8080/"
        },
        "outputId": "c708694c-f7b1-4a5f-922d-1e89e7120e11"
      },
      "outputs": [
        {
          "output_type": "stream",
          "name": "stdout",
          "text": [
            "      Sarcasm  Allegation  Justification  Refutation  Support  Oppose  Hate  \\\n",
            "139       0.0         0.0            0.0         0.0      0.0     0.0   0.0   \n",
            "635       1.0         0.0            0.0         0.0      0.0     0.0   0.0   \n",
            "3241      0.0         0.0            0.0         0.0      0.0     1.0   0.0   \n",
            "2198      0.0         0.0            0.0         0.0      1.0     0.0   0.0   \n",
            "1791      0.0         0.0            0.0         0.0      0.0     0.0   0.0   \n",
            "...       ...         ...            ...         ...      ...     ...   ...   \n",
            "5116      0.0         0.0            0.0         0.0      0.0     0.0   0.0   \n",
            "5416      0.0         0.0            0.0         0.0      0.0     0.0   0.0   \n",
            "5444      0.0         0.0            0.0         0.0      0.0     0.0   0.0   \n",
            "2715      0.0         0.0            0.0         0.0      1.0     0.0   0.0   \n",
            "1805      0.0         0.0            0.0         0.0      0.0     0.0   0.0   \n",
            "\n",
            "                                                   text  \n",
            "139   college student allegedly raped hours after at...  \n",
            "635   meet the gop senate candidates attacking dr ch...  \n",
            "3241  my objection is to the victimhood that the met...  \n",
            "2198  bccis coa chief vinod rai has his way as he fo...  \n",
            "1791  metoo row nivetha pethuraj faces harrasement i...  \n",
            "...                                                 ...  \n",
            "5116  nhs needs metoo moment to stamp out sexualhara...  \n",
            "5416  another name simplysajidk in the list salonich...  \n",
            "5444  under armour bans strip club expenses in metoo...  \n",
            "2715  arjunsarja must apologize sruthihariharan  pra...  \n",
            "1805  metoo rahul easwar faces sexual harassment all...  \n",
            "\n",
            "[4422 rows x 8 columns]\n"
          ]
        }
      ],
      "source": [
        "# create new row 'labels'\n",
        "y_res_label = y_res\n",
        "y_res_label['labels'] = y_res.iloc[:, 0:7].values.tolist()\n",
        "\n",
        "# delete the columns\n",
        "y_res_label = y_res_label.drop(['Sarcasm', 'Allegation', 'Justification', 'Refutation', 'Support', 'Oppose', 'Hate'], axis=1)\n",
        "\n",
        "y_res = y_res.drop(\"labels\", axis=1)\n",
        "#y_res.head()\n",
        "\n",
        "# create new row 'labels'\n",
        "train_data_label = train_data\n",
        "train_data_label['labels'] = train_data.iloc[:, 0:7].values.tolist()\n",
        "\n",
        "# delete the columns\n",
        "train_data_label = train_data_label.drop(['Sarcasm', 'Allegation', 'Justification', 'Refutation', 'Support', 'Oppose', 'Hate'], axis=1)\n",
        "\n",
        "train_data = train_data.drop(\"labels\", axis=1)\n",
        "#y_res.head()\n",
        "\n",
        "#test-train split\n",
        "old_train = train_data.copy()\n",
        "train_data = train_data.sample(frac=0.8,random_state=200)\n",
        "print(train_data)\n",
        "\n"
      ]
    },
    {
      "cell_type": "code",
      "source": [
        "test_data = old_train.drop(train_data.index)\n",
        "print(test_data)"
      ],
      "metadata": {
        "colab": {
          "base_uri": "https://localhost:8080/"
        },
        "id": "KLziMRNAYHzF",
        "outputId": "49b3e275-08f5-489e-c2c6-11597b75c8d1"
      },
      "execution_count": null,
      "outputs": [
        {
          "output_type": "stream",
          "name": "stdout",
          "text": [
            "      Sarcasm  Allegation  Justification  Refutation  Support  Oppose  Hate  \\\n",
            "2         0.0         1.0            0.0         0.0      1.0     0.0   0.0   \n",
            "17        0.0         0.0            1.0         0.0      1.0     0.0   0.0   \n",
            "18        0.0         0.0            1.0         0.0      1.0     0.0   0.0   \n",
            "37        1.0         1.0            1.0         0.0      1.0     0.0   0.0   \n",
            "48        1.0         0.0            1.0         0.0      0.0     1.0   0.0   \n",
            "...       ...         ...            ...         ...      ...     ...   ...   \n",
            "5500      0.0         0.0            0.0         0.0      0.0     0.0   1.0   \n",
            "5505      0.0         0.0            0.0         0.0      0.0     0.0   0.0   \n",
            "5511      0.0         0.0            0.0         0.0      0.0     0.0   0.0   \n",
            "5516      0.0         0.0            0.0         0.0      1.0     0.0   0.0   \n",
            "5517      1.0         0.0            0.0         0.0      0.0     0.0   0.0   \n",
            "\n",
            "                                                   text  \n",
            "2     it is high time metoo named and shamed men in ...  \n",
            "17    metoo official soundtrack coming soon to a rec...  \n",
            "18    this people are lunatics and potentially dange...  \n",
            "37    life comes at you quickwoman so indoctrinated ...  \n",
            "48    even though rosemcgowan is an utter fruitloop ...  \n",
            "...                                                 ...  \n",
            "5500  in india female journalists lead outpouring of...  \n",
            "5505  the journey of recovery frm domesticviolence i...  \n",
            "5511  in an unusual move the yous government just ma...  \n",
            "5516  very proud to have a president do what what he...  \n",
            "5517  presssec women of america stand up to trump an...  \n",
            "\n",
            "[1105 rows x 8 columns]\n"
          ]
        }
      ]
    },
    {
      "cell_type": "markdown",
      "metadata": {
        "id": "qt-FvoQ-8wmL"
      },
      "source": [
        "# Training Parameters <a id='section03'></a>\n",
        "\n",
        "Defining some key variables that will be used later on in the training\n"
      ]
    },
    {
      "cell_type": "code",
      "execution_count": null,
      "metadata": {
        "execution": {
          "iopub.execute_input": "2023-05-07T20:09:41.852125Z",
          "iopub.status.busy": "2023-05-07T20:09:41.851751Z",
          "iopub.status.idle": "2023-05-07T20:09:41.857472Z",
          "shell.execute_reply": "2023-05-07T20:09:41.856559Z",
          "shell.execute_reply.started": "2023-05-07T20:09:41.852093Z"
        },
        "id": "jIV_O0b88wmL"
      },
      "outputs": [],
      "source": [
        "MAX_LEN = 512\n",
        "TRAIN_BATCH_SIZE = 64\n",
        "EPOCHS = 4\n",
        "LEARNING_RATE = 1e-05\n",
        "NUM_WORKERS = 2"
      ]
    },
    {
      "cell_type": "markdown",
      "metadata": {
        "id": "rUT4xLd28wmM"
      },
      "source": [
        "# Preparing the Dataset and Dataloader <a id='section04'></a>\n"
      ]
    },
    {
      "cell_type": "code",
      "execution_count": null,
      "metadata": {
        "tags": [],
        "id": "Y7KYnFvT8wmM"
      },
      "outputs": [],
      "source": [
        "class MultiLabelDataset(Dataset):\n",
        "\n",
        "    def __init__(self, dataframe, tokenizer, max_len: int, eval_mode: bool = False, truncation: bool = True):\n",
        "        self.data = dataframe\n",
        "        self.tokenizer = tokenizer\n",
        "        self.text = dataframe.text\n",
        "        self.eval_mode = eval_mode \n",
        "        if self.eval_mode is False:\n",
        "            self.targets = self.data.labels\n",
        "        self.max_len = max_len\n",
        "        self.truncation = truncation\n",
        "\n",
        "    def __len__(self):\n",
        "        return len(self.text)\n",
        "\n",
        "    def __getitem__(self, index):\n",
        "        text = str(self.text.iloc[index])\n",
        "        text = \" \".join(text.split())\n",
        "\n",
        "        inputs = self.tokenizer.encode_plus(\n",
        "            text,\n",
        "            None,\n",
        "            add_special_tokens=True,\n",
        "            max_length=self.max_len,\n",
        "            pad_to_max_length=True,\n",
        "            return_token_type_ids=True, \n",
        "            truncation=True\n",
        "        )\n",
        "        \n",
        "        ids = inputs['input_ids']\n",
        "        mask = inputs['attention_mask']\n",
        "        token_type_ids = inputs[\"token_type_ids\"]\n",
        "\n",
        "        output = {\n",
        "            'ids': torch.tensor(ids, dtype=torch.long),\n",
        "            'mask': torch.tensor(mask, dtype=torch.long),\n",
        "            'token_type_ids': torch.tensor(token_type_ids, dtype=torch.long),\n",
        "        }\n",
        "                \n",
        "        if self.eval_mode is False:\n",
        "            output['targets'] = torch.tensor(self.targets.iloc[index], dtype=torch.float)\n",
        "                \n",
        "        return output"
      ]
    },
    {
      "cell_type": "markdown",
      "metadata": {
        "id": "SpQkUoz88wmN"
      },
      "source": [
        "## Loading tokenizer and generating training set"
      ]
    },
    {
      "cell_type": "code",
      "execution_count": null,
      "metadata": {
        "tags": [],
        "id": "V9pTKQmL8wmN"
      },
      "outputs": [],
      "source": [
        "tokenizer = DistilBertTokenizer.from_pretrained('distilbert-base-uncased', truncation=True, do_lower_case=True)\n",
        "training_set = MultiLabelDataset(train_data_label, tokenizer, MAX_LEN, truncation=True)"
      ]
    },
    {
      "cell_type": "markdown",
      "metadata": {
        "id": "mC3wlfNZ8wmN"
      },
      "source": [
        "## Verify the data at index 0"
      ]
    },
    {
      "cell_type": "code",
      "execution_count": null,
      "metadata": {
        "tags": [],
        "id": "tDXBmGqE8wmO",
        "outputId": "9e6ec186-074f-47ba-8437-499072e9b711",
        "colab": {
          "base_uri": "https://localhost:8080/"
        }
      },
      "outputs": [
        {
          "output_type": "stream",
          "name": "stderr",
          "text": [
            "/usr/local/lib/python3.10/dist-packages/transformers/tokenization_utils_base.py:2364: FutureWarning: The `pad_to_max_length` argument is deprecated and will be removed in a future version, use `padding=True` or `padding='longest'` to pad to the longest sequence in the batch, or use `padding='max_length'` to pad to a max length. In this case, you can give a specific length with `max_length` (e.g. `max_length=45`) or leave max_length to None to pad to the maximal input size of the model (e.g. 512 for Bert).\n",
            "  warnings.warn(\n"
          ]
        },
        {
          "output_type": "execute_result",
          "data": {
            "text/plain": [
              "{'ids': tensor([ 101, 4070, 6731,  102,    0,    0,    0,    0,    0,    0,    0,    0,\n",
              "            0,    0,    0,    0,    0,    0,    0,    0,    0,    0,    0,    0,\n",
              "            0,    0,    0,    0,    0,    0,    0,    0,    0,    0,    0,    0,\n",
              "            0,    0,    0,    0,    0,    0,    0,    0,    0,    0,    0,    0,\n",
              "            0,    0,    0,    0,    0,    0,    0,    0,    0,    0,    0,    0,\n",
              "            0,    0,    0,    0,    0,    0,    0,    0,    0,    0,    0,    0,\n",
              "            0,    0,    0,    0,    0,    0,    0,    0,    0,    0,    0,    0,\n",
              "            0,    0,    0,    0,    0,    0,    0,    0,    0,    0,    0,    0,\n",
              "            0,    0,    0,    0,    0,    0,    0,    0,    0,    0,    0,    0,\n",
              "            0,    0,    0,    0,    0,    0,    0,    0,    0,    0,    0,    0,\n",
              "            0,    0,    0,    0,    0,    0,    0,    0,    0,    0,    0,    0,\n",
              "            0,    0,    0,    0,    0,    0,    0,    0,    0,    0,    0,    0,\n",
              "            0,    0,    0,    0,    0,    0,    0,    0,    0,    0,    0,    0,\n",
              "            0,    0,    0,    0,    0,    0,    0,    0,    0,    0,    0,    0,\n",
              "            0,    0,    0,    0,    0,    0,    0,    0,    0,    0,    0,    0,\n",
              "            0,    0,    0,    0,    0,    0,    0,    0,    0,    0,    0,    0,\n",
              "            0,    0,    0,    0,    0,    0,    0,    0,    0,    0,    0,    0,\n",
              "            0,    0,    0,    0,    0,    0,    0,    0,    0,    0,    0,    0,\n",
              "            0,    0,    0,    0,    0,    0,    0,    0,    0,    0,    0,    0,\n",
              "            0,    0,    0,    0,    0,    0,    0,    0,    0,    0,    0,    0,\n",
              "            0,    0,    0,    0,    0,    0,    0,    0,    0,    0,    0,    0,\n",
              "            0,    0,    0,    0,    0,    0,    0,    0,    0,    0,    0,    0,\n",
              "            0,    0,    0,    0,    0,    0,    0,    0,    0,    0,    0,    0,\n",
              "            0,    0,    0,    0,    0,    0,    0,    0,    0,    0,    0,    0,\n",
              "            0,    0,    0,    0,    0,    0,    0,    0,    0,    0,    0,    0,\n",
              "            0,    0,    0,    0,    0,    0,    0,    0,    0,    0,    0,    0,\n",
              "            0,    0,    0,    0,    0,    0,    0,    0,    0,    0,    0,    0,\n",
              "            0,    0,    0,    0,    0,    0,    0,    0,    0,    0,    0,    0,\n",
              "            0,    0,    0,    0,    0,    0,    0,    0,    0,    0,    0,    0,\n",
              "            0,    0,    0,    0,    0,    0,    0,    0,    0,    0,    0,    0,\n",
              "            0,    0,    0,    0,    0,    0,    0,    0,    0,    0,    0,    0,\n",
              "            0,    0,    0,    0,    0,    0,    0,    0,    0,    0,    0,    0,\n",
              "            0,    0,    0,    0,    0,    0,    0,    0,    0,    0,    0,    0,\n",
              "            0,    0,    0,    0,    0,    0,    0,    0,    0,    0,    0,    0,\n",
              "            0,    0,    0,    0,    0,    0,    0,    0,    0,    0,    0,    0,\n",
              "            0,    0,    0,    0,    0,    0,    0,    0,    0,    0,    0,    0,\n",
              "            0,    0,    0,    0,    0,    0,    0,    0,    0,    0,    0,    0,\n",
              "            0,    0,    0,    0,    0,    0,    0,    0,    0,    0,    0,    0,\n",
              "            0,    0,    0,    0,    0,    0,    0,    0,    0,    0,    0,    0,\n",
              "            0,    0,    0,    0,    0,    0,    0,    0,    0,    0,    0,    0,\n",
              "            0,    0,    0,    0,    0,    0,    0,    0,    0,    0,    0,    0,\n",
              "            0,    0,    0,    0,    0,    0,    0,    0,    0,    0,    0,    0,\n",
              "            0,    0,    0,    0,    0,    0,    0,    0]),\n",
              " 'mask': tensor([1, 1, 1, 1, 0, 0, 0, 0, 0, 0, 0, 0, 0, 0, 0, 0, 0, 0, 0, 0, 0, 0, 0, 0,\n",
              "         0, 0, 0, 0, 0, 0, 0, 0, 0, 0, 0, 0, 0, 0, 0, 0, 0, 0, 0, 0, 0, 0, 0, 0,\n",
              "         0, 0, 0, 0, 0, 0, 0, 0, 0, 0, 0, 0, 0, 0, 0, 0, 0, 0, 0, 0, 0, 0, 0, 0,\n",
              "         0, 0, 0, 0, 0, 0, 0, 0, 0, 0, 0, 0, 0, 0, 0, 0, 0, 0, 0, 0, 0, 0, 0, 0,\n",
              "         0, 0, 0, 0, 0, 0, 0, 0, 0, 0, 0, 0, 0, 0, 0, 0, 0, 0, 0, 0, 0, 0, 0, 0,\n",
              "         0, 0, 0, 0, 0, 0, 0, 0, 0, 0, 0, 0, 0, 0, 0, 0, 0, 0, 0, 0, 0, 0, 0, 0,\n",
              "         0, 0, 0, 0, 0, 0, 0, 0, 0, 0, 0, 0, 0, 0, 0, 0, 0, 0, 0, 0, 0, 0, 0, 0,\n",
              "         0, 0, 0, 0, 0, 0, 0, 0, 0, 0, 0, 0, 0, 0, 0, 0, 0, 0, 0, 0, 0, 0, 0, 0,\n",
              "         0, 0, 0, 0, 0, 0, 0, 0, 0, 0, 0, 0, 0, 0, 0, 0, 0, 0, 0, 0, 0, 0, 0, 0,\n",
              "         0, 0, 0, 0, 0, 0, 0, 0, 0, 0, 0, 0, 0, 0, 0, 0, 0, 0, 0, 0, 0, 0, 0, 0,\n",
              "         0, 0, 0, 0, 0, 0, 0, 0, 0, 0, 0, 0, 0, 0, 0, 0, 0, 0, 0, 0, 0, 0, 0, 0,\n",
              "         0, 0, 0, 0, 0, 0, 0, 0, 0, 0, 0, 0, 0, 0, 0, 0, 0, 0, 0, 0, 0, 0, 0, 0,\n",
              "         0, 0, 0, 0, 0, 0, 0, 0, 0, 0, 0, 0, 0, 0, 0, 0, 0, 0, 0, 0, 0, 0, 0, 0,\n",
              "         0, 0, 0, 0, 0, 0, 0, 0, 0, 0, 0, 0, 0, 0, 0, 0, 0, 0, 0, 0, 0, 0, 0, 0,\n",
              "         0, 0, 0, 0, 0, 0, 0, 0, 0, 0, 0, 0, 0, 0, 0, 0, 0, 0, 0, 0, 0, 0, 0, 0,\n",
              "         0, 0, 0, 0, 0, 0, 0, 0, 0, 0, 0, 0, 0, 0, 0, 0, 0, 0, 0, 0, 0, 0, 0, 0,\n",
              "         0, 0, 0, 0, 0, 0, 0, 0, 0, 0, 0, 0, 0, 0, 0, 0, 0, 0, 0, 0, 0, 0, 0, 0,\n",
              "         0, 0, 0, 0, 0, 0, 0, 0, 0, 0, 0, 0, 0, 0, 0, 0, 0, 0, 0, 0, 0, 0, 0, 0,\n",
              "         0, 0, 0, 0, 0, 0, 0, 0, 0, 0, 0, 0, 0, 0, 0, 0, 0, 0, 0, 0, 0, 0, 0, 0,\n",
              "         0, 0, 0, 0, 0, 0, 0, 0, 0, 0, 0, 0, 0, 0, 0, 0, 0, 0, 0, 0, 0, 0, 0, 0,\n",
              "         0, 0, 0, 0, 0, 0, 0, 0, 0, 0, 0, 0, 0, 0, 0, 0, 0, 0, 0, 0, 0, 0, 0, 0,\n",
              "         0, 0, 0, 0, 0, 0, 0, 0]),\n",
              " 'token_type_ids': tensor([0, 0, 0, 0, 0, 0, 0, 0, 0, 0, 0, 0, 0, 0, 0, 0, 0, 0, 0, 0, 0, 0, 0, 0,\n",
              "         0, 0, 0, 0, 0, 0, 0, 0, 0, 0, 0, 0, 0, 0, 0, 0, 0, 0, 0, 0, 0, 0, 0, 0,\n",
              "         0, 0, 0, 0, 0, 0, 0, 0, 0, 0, 0, 0, 0, 0, 0, 0, 0, 0, 0, 0, 0, 0, 0, 0,\n",
              "         0, 0, 0, 0, 0, 0, 0, 0, 0, 0, 0, 0, 0, 0, 0, 0, 0, 0, 0, 0, 0, 0, 0, 0,\n",
              "         0, 0, 0, 0, 0, 0, 0, 0, 0, 0, 0, 0, 0, 0, 0, 0, 0, 0, 0, 0, 0, 0, 0, 0,\n",
              "         0, 0, 0, 0, 0, 0, 0, 0, 0, 0, 0, 0, 0, 0, 0, 0, 0, 0, 0, 0, 0, 0, 0, 0,\n",
              "         0, 0, 0, 0, 0, 0, 0, 0, 0, 0, 0, 0, 0, 0, 0, 0, 0, 0, 0, 0, 0, 0, 0, 0,\n",
              "         0, 0, 0, 0, 0, 0, 0, 0, 0, 0, 0, 0, 0, 0, 0, 0, 0, 0, 0, 0, 0, 0, 0, 0,\n",
              "         0, 0, 0, 0, 0, 0, 0, 0, 0, 0, 0, 0, 0, 0, 0, 0, 0, 0, 0, 0, 0, 0, 0, 0,\n",
              "         0, 0, 0, 0, 0, 0, 0, 0, 0, 0, 0, 0, 0, 0, 0, 0, 0, 0, 0, 0, 0, 0, 0, 0,\n",
              "         0, 0, 0, 0, 0, 0, 0, 0, 0, 0, 0, 0, 0, 0, 0, 0, 0, 0, 0, 0, 0, 0, 0, 0,\n",
              "         0, 0, 0, 0, 0, 0, 0, 0, 0, 0, 0, 0, 0, 0, 0, 0, 0, 0, 0, 0, 0, 0, 0, 0,\n",
              "         0, 0, 0, 0, 0, 0, 0, 0, 0, 0, 0, 0, 0, 0, 0, 0, 0, 0, 0, 0, 0, 0, 0, 0,\n",
              "         0, 0, 0, 0, 0, 0, 0, 0, 0, 0, 0, 0, 0, 0, 0, 0, 0, 0, 0, 0, 0, 0, 0, 0,\n",
              "         0, 0, 0, 0, 0, 0, 0, 0, 0, 0, 0, 0, 0, 0, 0, 0, 0, 0, 0, 0, 0, 0, 0, 0,\n",
              "         0, 0, 0, 0, 0, 0, 0, 0, 0, 0, 0, 0, 0, 0, 0, 0, 0, 0, 0, 0, 0, 0, 0, 0,\n",
              "         0, 0, 0, 0, 0, 0, 0, 0, 0, 0, 0, 0, 0, 0, 0, 0, 0, 0, 0, 0, 0, 0, 0, 0,\n",
              "         0, 0, 0, 0, 0, 0, 0, 0, 0, 0, 0, 0, 0, 0, 0, 0, 0, 0, 0, 0, 0, 0, 0, 0,\n",
              "         0, 0, 0, 0, 0, 0, 0, 0, 0, 0, 0, 0, 0, 0, 0, 0, 0, 0, 0, 0, 0, 0, 0, 0,\n",
              "         0, 0, 0, 0, 0, 0, 0, 0, 0, 0, 0, 0, 0, 0, 0, 0, 0, 0, 0, 0, 0, 0, 0, 0,\n",
              "         0, 0, 0, 0, 0, 0, 0, 0, 0, 0, 0, 0, 0, 0, 0, 0, 0, 0, 0, 0, 0, 0, 0, 0,\n",
              "         0, 0, 0, 0, 0, 0, 0, 0]),\n",
              " 'targets': tensor([0., 0., 1., 0., 1., 0., 0.])}"
            ]
          },
          "metadata": {},
          "execution_count": 97
        }
      ],
      "source": [
        "training_set[0]"
      ]
    },
    {
      "cell_type": "markdown",
      "metadata": {
        "id": "vl016x3N8wmO"
      },
      "source": [
        "## Creating Dataloader"
      ]
    },
    {
      "cell_type": "code",
      "execution_count": null,
      "metadata": {
        "execution": {
          "iopub.execute_input": "2023-05-07T20:10:14.887898Z",
          "iopub.status.busy": "2023-05-07T20:10:14.887276Z",
          "iopub.status.idle": "2023-05-07T20:10:14.892804Z",
          "shell.execute_reply": "2023-05-07T20:10:14.891849Z",
          "shell.execute_reply.started": "2023-05-07T20:10:14.887859Z"
        },
        "id": "uKOFD5r18wmO"
      },
      "outputs": [],
      "source": [
        "train_params = {'batch_size': TRAIN_BATCH_SIZE,\n",
        "                'shuffle': True,\n",
        "                'num_workers': NUM_WORKERS\n",
        "                }\n",
        "training_loader = DataLoader(training_set, **train_params)"
      ]
    },
    {
      "cell_type": "markdown",
      "metadata": {
        "id": "dglg2ugU8wmP"
      },
      "source": [
        "<a id='section05'></a>\n",
        "# Neural Network for Fine Tuning\n"
      ]
    },
    {
      "cell_type": "code",
      "execution_count": null,
      "metadata": {
        "execution": {
          "iopub.execute_input": "2023-05-07T20:10:19.127071Z",
          "iopub.status.busy": "2023-05-07T20:10:19.126399Z",
          "iopub.status.idle": "2023-05-07T20:10:19.135188Z",
          "shell.execute_reply": "2023-05-07T20:10:19.133232Z",
          "shell.execute_reply.started": "2023-05-07T20:10:19.127034Z"
        },
        "id": "aaJgXLpL8wmQ"
      },
      "outputs": [],
      "source": [
        "# Creating the customized model, by adding a drop out and a dense layer on top of distil bert to get the final output for the model. \n",
        "        \n",
        "class DistilBERTClass(torch.nn.Module):\n",
        "    \n",
        "    def __init__(self):\n",
        "        super(DistilBERTClass, self).__init__()\n",
        "        self.l1 = DistilBertModel.from_pretrained(\"distilbert-base-uncased\")\n",
        "        self.pre_classifier = torch.nn.Linear(768, 768)\n",
        "        self.dropout = torch.nn.Dropout(0.1)\n",
        "        self.classifier = torch.nn.Linear(768, 7)\n",
        "\n",
        "    def forward(self, input_ids, attention_mask, token_type_ids):\n",
        "        output_1 = self.l1(input_ids=input_ids, attention_mask=attention_mask)\n",
        "        hidden_state = output_1[0]\n",
        "        pooler = hidden_state[:, 0]\n",
        "        pooler = self.pre_classifier(pooler)\n",
        "        pooler = torch.nn.Tanh()(pooler)\n",
        "        pooler = self.dropout(pooler)\n",
        "        output = self.classifier(pooler)\n",
        "        return output\n"
      ]
    },
    {
      "cell_type": "markdown",
      "metadata": {
        "id": "5yDlo8Cy8wmR"
      },
      "source": [
        "## Loading Neural Network model"
      ]
    },
    {
      "cell_type": "code",
      "execution_count": null,
      "metadata": {
        "execution": {
          "iopub.execute_input": "2023-05-07T20:10:23.274216Z",
          "iopub.status.busy": "2023-05-07T20:10:23.273848Z",
          "iopub.status.idle": "2023-05-07T20:10:32.071485Z",
          "shell.execute_reply": "2023-05-07T20:10:32.070402Z",
          "shell.execute_reply.started": "2023-05-07T20:10:23.274184Z"
        },
        "id": "-RhGvYpP8wmR",
        "colab": {
          "base_uri": "https://localhost:8080/"
        },
        "outputId": "56b54c83-7a06-4e67-d9c3-2c7d20aac45d"
      },
      "outputs": [
        {
          "output_type": "stream",
          "name": "stderr",
          "text": [
            "Some weights of the model checkpoint at distilbert-base-uncased were not used when initializing DistilBertModel: ['vocab_projector.bias', 'vocab_transform.bias', 'vocab_projector.weight', 'vocab_transform.weight', 'vocab_layer_norm.bias', 'vocab_layer_norm.weight']\n",
            "- This IS expected if you are initializing DistilBertModel from the checkpoint of a model trained on another task or with another architecture (e.g. initializing a BertForSequenceClassification model from a BertForPreTraining model).\n",
            "- This IS NOT expected if you are initializing DistilBertModel from the checkpoint of a model that you expect to be exactly identical (initializing a BertForSequenceClassification model from a BertForSequenceClassification model).\n"
          ]
        },
        {
          "output_type": "execute_result",
          "data": {
            "text/plain": [
              "DistilBERTClass(\n",
              "  (l1): DistilBertModel(\n",
              "    (embeddings): Embeddings(\n",
              "      (word_embeddings): Embedding(30522, 768, padding_idx=0)\n",
              "      (position_embeddings): Embedding(512, 768)\n",
              "      (LayerNorm): LayerNorm((768,), eps=1e-12, elementwise_affine=True)\n",
              "      (dropout): Dropout(p=0.1, inplace=False)\n",
              "    )\n",
              "    (transformer): Transformer(\n",
              "      (layer): ModuleList(\n",
              "        (0-5): 6 x TransformerBlock(\n",
              "          (attention): MultiHeadSelfAttention(\n",
              "            (dropout): Dropout(p=0.1, inplace=False)\n",
              "            (q_lin): Linear(in_features=768, out_features=768, bias=True)\n",
              "            (k_lin): Linear(in_features=768, out_features=768, bias=True)\n",
              "            (v_lin): Linear(in_features=768, out_features=768, bias=True)\n",
              "            (out_lin): Linear(in_features=768, out_features=768, bias=True)\n",
              "          )\n",
              "          (sa_layer_norm): LayerNorm((768,), eps=1e-12, elementwise_affine=True)\n",
              "          (ffn): FFN(\n",
              "            (dropout): Dropout(p=0.1, inplace=False)\n",
              "            (lin1): Linear(in_features=768, out_features=3072, bias=True)\n",
              "            (lin2): Linear(in_features=3072, out_features=768, bias=True)\n",
              "            (activation): GELUActivation()\n",
              "          )\n",
              "          (output_layer_norm): LayerNorm((768,), eps=1e-12, elementwise_affine=True)\n",
              "        )\n",
              "      )\n",
              "    )\n",
              "  )\n",
              "  (pre_classifier): Linear(in_features=768, out_features=768, bias=True)\n",
              "  (dropout): Dropout(p=0.1, inplace=False)\n",
              "  (classifier): Linear(in_features=768, out_features=7, bias=True)\n",
              ")"
            ]
          },
          "metadata": {},
          "execution_count": 114
        }
      ],
      "source": [
        "model = DistilBERTClass()\n",
        "device = torch.device('cuda' if torch.cuda.is_available() else 'cpu')\n",
        " #('cuda' if torch.cuda.is_available() else 'cpu')\n",
        "model.to(device)"
      ]
    },
    {
      "cell_type": "markdown",
      "metadata": {
        "id": "vcMI9qjL8wmS"
      },
      "source": [
        "## Loss Function and Optimizer\n",
        " - The Loss is defined in the next cell as `loss_fn`.\n",
        " - As defined above, the loss function used will be a combination of Binary Cross Entropy which is implemented as [BCELogits Loss](https://pytorch.org/docs/stable/nn.html#bcewithlogitsloss) in PyTorch\n",
        " - `Optimizer` is defined in the next cell.\n",
        " - `Optimizer` is used to update the weights of the neural network to improve its performance."
      ]
    },
    {
      "cell_type": "code",
      "execution_count": null,
      "metadata": {
        "execution": {
          "iopub.execute_input": "2023-05-07T20:10:39.526214Z",
          "iopub.status.busy": "2023-05-07T20:10:39.525869Z",
          "iopub.status.idle": "2023-05-07T20:10:39.53149Z",
          "shell.execute_reply": "2023-05-07T20:10:39.530183Z",
          "shell.execute_reply.started": "2023-05-07T20:10:39.526184Z"
        },
        "id": "HKCQAr3Q8wmS"
      },
      "outputs": [],
      "source": [
        "def loss_fn(outputs, targets):\n",
        "    return torch.nn.BCEWithLogitsLoss()(outputs, targets)"
      ]
    },
    {
      "cell_type": "code",
      "execution_count": null,
      "metadata": {
        "execution": {
          "iopub.execute_input": "2023-05-07T20:10:42.671685Z",
          "iopub.status.busy": "2023-05-07T20:10:42.67077Z",
          "iopub.status.idle": "2023-05-07T20:10:42.677371Z",
          "shell.execute_reply": "2023-05-07T20:10:42.676414Z",
          "shell.execute_reply.started": "2023-05-07T20:10:42.671635Z"
        },
        "id": "dwYnsIEE8wmT"
      },
      "outputs": [],
      "source": [
        "optimizer = torch.optim.Adam(params =  model.parameters(), lr=LEARNING_RATE)"
      ]
    },
    {
      "cell_type": "markdown",
      "metadata": {
        "id": "ZqJu3Hjw8wmT"
      },
      "source": [
        "<a id='section06'></a>\n",
        "# Fine Tuning the Model\n"
      ]
    },
    {
      "cell_type": "code",
      "execution_count": null,
      "metadata": {
        "execution": {
          "iopub.execute_input": "2023-05-07T20:10:46.344263Z",
          "iopub.status.busy": "2023-05-07T20:10:46.343911Z",
          "iopub.status.idle": "2023-05-07T20:10:46.366029Z",
          "shell.execute_reply": "2023-05-07T20:10:46.36503Z",
          "shell.execute_reply.started": "2023-05-07T20:10:46.344233Z"
        },
        "id": "2nd70Kja8wmU"
      },
      "outputs": [],
      "source": [
        "def train(epoch):\n",
        "    \n",
        "    model.train()\n",
        "    for _,data in tqdm(enumerate(training_loader, 0)):\n",
        "        ids = data['ids'].to(device, dtype = torch.long)\n",
        "        mask = data['mask'].to(device, dtype = torch.long)\n",
        "        token_type_ids = data['token_type_ids'].to(device, dtype = torch.long)\n",
        "        targets = data['targets'].to(device, dtype = torch.float)\n",
        "\n",
        "        outputs = model(ids, mask, token_type_ids)\n",
        "\n",
        "        optimizer.zero_grad()\n",
        "        loss = loss_fn(outputs, targets)\n",
        "        if _%20==0:\n",
        "            print(f'Epoch: {epoch}, Loss:  {loss.item()}')\n",
        "        \n",
        "        loss.backward()\n",
        "        optimizer.step()"
      ]
    },
    {
      "cell_type": "code",
      "execution_count": null,
      "metadata": {
        "execution": {
          "iopub.execute_input": "2023-05-07T20:10:50.539582Z",
          "iopub.status.busy": "2023-05-07T20:10:50.539181Z",
          "iopub.status.idle": "2023-05-07T20:18:14.463747Z",
          "shell.execute_reply": "2023-05-07T20:18:14.462634Z",
          "shell.execute_reply.started": "2023-05-07T20:10:50.539547Z"
        },
        "id": "inbUmp1S8wmV",
        "colab": {
          "base_uri": "https://localhost:8080/",
          "height": 485,
          "referenced_widgets": [
            "699a1d5401954535b132e7c325ef2a52",
            "4fc1a68899f149649f81afdfc209d7ff",
            "398d1c4d773e499c82d06f69390c1813",
            "38e4d316450e4d0c806153da665babfc",
            "6fc73e9fd7ca4f91abf813e54bf8c66d",
            "7d919b65a01c4d21911e3ec78e3f831b",
            "4ed8b88b55e44951a0131640481ae0ac",
            "9da1dcf0f7804112a2a3ed2ad803dbb0",
            "09186cc180894753afce2fb4c90d9e3f",
            "7d2f1783800645058528c5b7b2288c7e",
            "55ae17f697204ebbbbc79c52776433af",
            "fdc7340fede14db6b6d0fa68c89f2bde",
            "e516618c8c25409ea0596f5a7ee822a3",
            "93a009e34d9c45bfa5f21a706fcfe3dc",
            "49da5bbee88c4650a2de7f5597f65e5f",
            "c2ee868c940d40aab0e53733e8709a1b",
            "b1a320b61e57417089ac850666c5f4bc",
            "051ec52c99a8494199be6ae5b038cb8c",
            "228e2890669f49d287311cf84dd4de28",
            "3073a4d0dc1c4937bba38c83eae85b5d",
            "7f0952416d2846f9923c0964d673088e",
            "5bdeff56402d4bac9f9bdc5e95b8f574",
            "c52ef741625048d5a429f28116219692",
            "07ecb4866d8c489488776eff29b9fc3c",
            "0d4053c99ebe4c9985c923e878a2b552",
            "05c0b9fe2e054383ac7ff9933edaadfb",
            "faaf7a89dd4d40f984c1705953bc2620",
            "f341e48275554f4ab0284a4bbaa6d1d1",
            "9f6f18ce02984fd7a63cb4ffe4f16d8a",
            "aa572d579274491aa9cabb5b4eced5d2",
            "51196eb2f6bf42eab1ea1bec1635ff30",
            "1169563b229840bcb45eea4a7fea47d0",
            "34beb1ccd7a74216b45a0430bbc5c1a3",
            "5a24367bb07742b09074e102d2aae79f",
            "50736dc660724fedb96cc9b04408105f",
            "2e079d5436674cbfa7ad2f87eadd6abf",
            "11f136c56cb3475599583819b9b32ca0",
            "b645828bf8e74beda6757be5dea390cc",
            "9f74eb6182b64beca73bc1ca9edab372",
            "f18a0657a27e418d8887ba65cc99f727",
            "025b2fa2a8be48e0a1ef0bacf5dc1ce4",
            "9b50dd83e2804fcb806dfde115f00671",
            "2691fd3fefd447c2b0e7cb379bcf2b26",
            "cfb8951979e3458bbf9e662a45f24d94"
          ]
        },
        "outputId": "0ddbc11f-60c3-40ed-9416-6c885fdd3e63"
      },
      "outputs": [
        {
          "output_type": "display_data",
          "data": {
            "text/plain": [
              "0it [00:00, ?it/s]"
            ],
            "application/vnd.jupyter.widget-view+json": {
              "version_major": 2,
              "version_minor": 0,
              "model_id": "699a1d5401954535b132e7c325ef2a52"
            }
          },
          "metadata": {}
        },
        {
          "output_type": "stream",
          "name": "stdout",
          "text": [
            "Epoch: 0, Loss:  0.7118311524391174\n",
            "Epoch: 0, Loss:  0.4571000039577484\n",
            "Epoch: 0, Loss:  0.3501068651676178\n",
            "Epoch: 0, Loss:  0.3069234788417816\n",
            "Epoch: 0, Loss:  0.27558767795562744\n"
          ]
        },
        {
          "output_type": "display_data",
          "data": {
            "text/plain": [
              "0it [00:00, ?it/s]"
            ],
            "application/vnd.jupyter.widget-view+json": {
              "version_major": 2,
              "version_minor": 0,
              "model_id": "fdc7340fede14db6b6d0fa68c89f2bde"
            }
          },
          "metadata": {}
        },
        {
          "output_type": "stream",
          "name": "stdout",
          "text": [
            "Epoch: 1, Loss:  0.28420576453208923\n",
            "Epoch: 1, Loss:  0.2922455370426178\n",
            "Epoch: 1, Loss:  0.2752102315425873\n",
            "Epoch: 1, Loss:  0.32646459341049194\n",
            "Epoch: 1, Loss:  0.25158658623695374\n"
          ]
        },
        {
          "output_type": "display_data",
          "data": {
            "text/plain": [
              "0it [00:00, ?it/s]"
            ],
            "application/vnd.jupyter.widget-view+json": {
              "version_major": 2,
              "version_minor": 0,
              "model_id": "c52ef741625048d5a429f28116219692"
            }
          },
          "metadata": {}
        },
        {
          "output_type": "stream",
          "name": "stdout",
          "text": [
            "Epoch: 2, Loss:  0.30171188712120056\n",
            "Epoch: 2, Loss:  0.269654244184494\n",
            "Epoch: 2, Loss:  0.268957257270813\n",
            "Epoch: 2, Loss:  0.3025287091732025\n",
            "Epoch: 2, Loss:  0.27953600883483887\n"
          ]
        },
        {
          "output_type": "display_data",
          "data": {
            "text/plain": [
              "0it [00:00, ?it/s]"
            ],
            "application/vnd.jupyter.widget-view+json": {
              "version_major": 2,
              "version_minor": 0,
              "model_id": "5a24367bb07742b09074e102d2aae79f"
            }
          },
          "metadata": {}
        },
        {
          "output_type": "stream",
          "name": "stdout",
          "text": [
            "Epoch: 3, Loss:  0.2675478160381317\n",
            "Epoch: 3, Loss:  0.30121469497680664\n",
            "Epoch: 3, Loss:  0.3169005513191223\n",
            "Epoch: 3, Loss:  0.3211076259613037\n",
            "Epoch: 3, Loss:  0.32761865854263306\n"
          ]
        }
      ],
      "source": [
        "for epoch in range(EPOCHS):\n",
        "    train(epoch)"
      ]
    },
    {
      "cell_type": "markdown",
      "metadata": {
        "id": "iMLPrswo8wmV"
      },
      "source": [
        "# Generate Submissions.csv <a id='section07'></a>"
      ]
    },
    {
      "cell_type": "code",
      "execution_count": null,
      "metadata": {
        "execution": {
          "iopub.execute_input": "2023-05-07T20:22:43.395454Z",
          "iopub.status.busy": "2023-05-07T20:22:43.395069Z",
          "iopub.status.idle": "2023-05-07T20:22:43.419907Z",
          "shell.execute_reply": "2023-05-07T20:22:43.419056Z",
          "shell.execute_reply.started": "2023-05-07T20:22:43.395417Z"
        },
        "id": "RmxGfg-n8wmW"
      },
      "outputs": [],
      "source": [
        "# create new row 'labels'\n",
        "test_data['labels'] = test_data.iloc[:, 0:7].values.tolist()\n",
        "# delete the columns\n",
        "test_data = test_data.drop(['Sarcasm', 'Allegation', 'Justification', 'Refutation', 'Support', 'Oppose', 'Hate'], axis=1)"
      ]
    },
    {
      "cell_type": "markdown",
      "metadata": {
        "id": "Bq-P_C9v8wmX"
      },
      "source": [
        "## Data Cleaning"
      ]
    },
    {
      "cell_type": "code",
      "execution_count": null,
      "metadata": {
        "execution": {
          "iopub.execute_input": "2023-05-07T20:23:01.937335Z",
          "iopub.status.busy": "2023-05-07T20:23:01.936907Z",
          "iopub.status.idle": "2023-05-07T20:23:01.955263Z",
          "shell.execute_reply": "2023-05-07T20:23:01.954367Z",
          "shell.execute_reply.started": "2023-05-07T20:23:01.9373Z"
        },
        "id": "ojVhhl3d8wmX"
      },
      "outputs": [],
      "source": [
        "test_data[\"text\"] = test_data[\"text\"].str.lower()\n",
        "test_data[\"text\"] = test_data[\"text\"].str.replace(\"\\xa0\", \" \", regex=False).str.split().str.join(\" \")"
      ]
    },
    {
      "cell_type": "code",
      "execution_count": null,
      "metadata": {
        "execution": {
          "iopub.execute_input": "2023-05-07T20:23:07.282724Z",
          "iopub.status.busy": "2023-05-07T20:23:07.28223Z",
          "iopub.status.idle": "2023-05-07T20:23:07.289481Z",
          "shell.execute_reply": "2023-05-07T20:23:07.288157Z",
          "shell.execute_reply.started": "2023-05-07T20:23:07.282681Z"
        },
        "id": "oaedb2K58wmX"
      },
      "outputs": [],
      "source": [
        "test_set = MultiLabelDataset(test_data, tokenizer, MAX_LEN, eval_mode = True)\n",
        "testing_params = {'batch_size': TRAIN_BATCH_SIZE,\n",
        "               'shuffle': False,\n",
        "               'num_workers': 2\n",
        "                }\n",
        "test_loader = DataLoader(test_set, **testing_params)"
      ]
    },
    {
      "cell_type": "code",
      "execution_count": null,
      "metadata": {
        "execution": {
          "iopub.execute_input": "2023-05-07T20:23:12.360031Z",
          "iopub.status.busy": "2023-05-07T20:23:12.359658Z",
          "iopub.status.idle": "2023-05-07T20:23:12.368147Z",
          "shell.execute_reply": "2023-05-07T20:23:12.367039Z",
          "shell.execute_reply.started": "2023-05-07T20:23:12.359997Z"
        },
        "id": "xw1bse8t8wmY"
      },
      "outputs": [],
      "source": [
        "all_test_pred = []\n",
        "\n",
        "def test(epoch):\n",
        "    model.eval()\n",
        "    \n",
        "    with torch.inference_mode():\n",
        "    \n",
        "        for _, data in tqdm(enumerate(test_loader, 0)):\n",
        "\n",
        "\n",
        "            ids = data['ids'].to(device, dtype=torch.long)\n",
        "            mask = data['mask'].to(device, dtype=torch.long)\n",
        "            token_type_ids = data['token_type_ids'].to(device, dtype=torch.long)\n",
        "            outputs = model(ids, mask, token_type_ids)\n",
        "            probas = torch.sigmoid(outputs)\n",
        "\n",
        "            all_test_pred.append(probas)\n",
        "    return probas"
      ]
    },
    {
      "cell_type": "code",
      "execution_count": null,
      "metadata": {
        "execution": {
          "iopub.execute_input": "2023-05-07T20:23:15.568945Z",
          "iopub.status.busy": "2023-05-07T20:23:15.568523Z",
          "iopub.status.idle": "2023-05-07T20:23:24.536276Z",
          "shell.execute_reply": "2023-05-07T20:23:24.53519Z",
          "shell.execute_reply.started": "2023-05-07T20:23:15.5689Z"
        },
        "id": "cEAqvWr48wmY",
        "colab": {
          "base_uri": "https://localhost:8080/",
          "height": 137,
          "referenced_widgets": [
            "5e5fc5e4e56c47b8bab94e303ab0115f",
            "d4e77d9d151e4dfd827e9d617f31e623",
            "7f46cea0d4f74b95baf78d355de079d7",
            "e1c5e645df55456681ee515df89c5b7f",
            "6d772f3a402e4b3f8a52f720c74d1fa7",
            "a6eb8111e26841beb38861d275c25719",
            "6aada95aeb89451793ecdf4aa364a938",
            "4e497ab811c14d80a95bdbd8ebde4ee7",
            "03c89464503d43b89e3ea379405890ac",
            "d3eb917f761d40b195b0e5ccd02b95c3",
            "e11317fd2cab49979c539dd26bfe0c60"
          ]
        },
        "outputId": "fb3f3e50-a3d3-4988-ea98-7048e4575186"
      },
      "outputs": [
        {
          "output_type": "stream",
          "name": "stderr",
          "text": [
            "/usr/local/lib/python3.10/dist-packages/transformers/tokenization_utils_base.py:2364: FutureWarning: The `pad_to_max_length` argument is deprecated and will be removed in a future version, use `padding=True` or `padding='longest'` to pad to the longest sequence in the batch, or use `padding='max_length'` to pad to a max length. In this case, you can give a specific length with `max_length` (e.g. `max_length=45`) or leave max_length to None to pad to the maximal input size of the model (e.g. 512 for Bert).\n",
            "  warnings.warn(\n"
          ]
        },
        {
          "output_type": "display_data",
          "data": {
            "text/plain": [
              "0it [00:00, ?it/s]"
            ],
            "application/vnd.jupyter.widget-view+json": {
              "version_major": 2,
              "version_minor": 0,
              "model_id": "5e5fc5e4e56c47b8bab94e303ab0115f"
            }
          },
          "metadata": {}
        },
        {
          "output_type": "stream",
          "name": "stderr",
          "text": [
            "/usr/local/lib/python3.10/dist-packages/transformers/tokenization_utils_base.py:2364: FutureWarning: The `pad_to_max_length` argument is deprecated and will be removed in a future version, use `padding=True` or `padding='longest'` to pad to the longest sequence in the batch, or use `padding='max_length'` to pad to a max length. In this case, you can give a specific length with `max_length` (e.g. `max_length=45`) or leave max_length to None to pad to the maximal input size of the model (e.g. 512 for Bert).\n",
            "  warnings.warn(\n"
          ]
        }
      ],
      "source": [
        "probas = test(model)"
      ]
    },
    {
      "cell_type": "code",
      "execution_count": null,
      "metadata": {
        "execution": {
          "iopub.execute_input": "2023-05-07T20:31:38.248802Z",
          "iopub.status.busy": "2023-05-07T20:31:38.248433Z",
          "iopub.status.idle": "2023-05-07T20:31:38.278915Z",
          "shell.execute_reply": "2023-05-07T20:31:38.277087Z",
          "shell.execute_reply.started": "2023-05-07T20:31:38.248772Z"
        },
        "id": "P1Xdnx208wmY"
      },
      "outputs": [],
      "source": [
        "all_test_pred = torch.cat(all_test_pred)"
      ]
    },
    {
      "cell_type": "code",
      "execution_count": null,
      "metadata": {
        "execution": {
          "iopub.execute_input": "2023-05-07T20:23:46.508588Z",
          "iopub.status.busy": "2023-05-07T20:23:46.508203Z",
          "iopub.status.idle": "2023-05-07T20:23:46.5166Z",
          "shell.execute_reply": "2023-05-07T20:23:46.515446Z",
          "shell.execute_reply.started": "2023-05-07T20:23:46.508556Z"
        },
        "id": "YlJxOBNt8wmZ"
      },
      "outputs": [],
      "source": [
        "submit_df = test_data.copy()\n",
        "submit_df.drop(\"text\", inplace=True, axis=1)"
      ]
    },
    {
      "cell_type": "code",
      "execution_count": null,
      "metadata": {
        "execution": {
          "iopub.execute_input": "2023-05-07T20:24:57.812922Z",
          "iopub.status.busy": "2023-05-07T20:24:57.812561Z",
          "iopub.status.idle": "2023-05-07T20:24:57.817504Z",
          "shell.execute_reply": "2023-05-07T20:24:57.816511Z",
          "shell.execute_reply.started": "2023-05-07T20:24:57.812891Z"
        },
        "id": "JelhccG98wmZ"
      },
      "outputs": [],
      "source": [
        "label_columns = [\"Sarcasm\", \"Allegation\", \"Justification\", \"Refutation\", \"Support\", \"Oppose\", \"Hate\"]\n"
      ]
    },
    {
      "cell_type": "code",
      "execution_count": null,
      "metadata": {
        "execution": {
          "iopub.execute_input": "2023-05-07T20:25:01.351074Z",
          "iopub.status.busy": "2023-05-07T20:25:01.3504Z",
          "iopub.status.idle": "2023-05-07T20:25:01.36166Z",
          "shell.execute_reply": "2023-05-07T20:25:01.360724Z",
          "shell.execute_reply.started": "2023-05-07T20:25:01.351039Z"
        },
        "id": "fRIp-jDD8wmZ"
      },
      "outputs": [],
      "source": [
        "for i,name in enumerate(label_columns):\n",
        "\n",
        "    submit_df[name] = all_test_pred[:, i].cpu()\n",
        "    submit_df.head()"
      ]
    },
    {
      "cell_type": "code",
      "execution_count": null,
      "metadata": {
        "execution": {
          "iopub.execute_input": "2023-05-08T02:53:32.205793Z",
          "iopub.status.busy": "2023-05-08T02:53:32.205322Z",
          "iopub.status.idle": "2023-05-08T02:53:32.289863Z",
          "shell.execute_reply": "2023-05-08T02:53:32.28868Z",
          "shell.execute_reply.started": "2023-05-08T02:53:32.205674Z"
        },
        "id": "WkXcH0sc8wmZ",
        "colab": {
          "base_uri": "https://localhost:8080/"
        },
        "outputId": "1c4336ab-e8f4-408a-d7c4-a0ce2c32f139"
      },
      "outputs": [
        {
          "output_type": "stream",
          "name": "stdout",
          "text": [
            "                                   labels   Sarcasm  Allegation  \\\n",
            "2     [0.0, 1.0, 0.0, 0.0, 1.0, 0.0, 0.0]  0.506356    0.455929   \n",
            "17    [0.0, 0.0, 1.0, 0.0, 1.0, 0.0, 0.0]  0.501707    0.467162   \n",
            "18    [0.0, 0.0, 1.0, 0.0, 1.0, 0.0, 0.0]  0.480380    0.448280   \n",
            "37    [1.0, 1.0, 1.0, 0.0, 1.0, 0.0, 0.0]  0.472957    0.474369   \n",
            "48    [1.0, 0.0, 1.0, 0.0, 0.0, 1.0, 0.0]  0.486335    0.468456   \n",
            "...                                   ...       ...         ...   \n",
            "5500  [0.0, 0.0, 0.0, 0.0, 0.0, 0.0, 1.0]  0.488687    0.451214   \n",
            "5505  [0.0, 0.0, 0.0, 0.0, 0.0, 0.0, 0.0]  0.477448    0.495468   \n",
            "5511  [0.0, 0.0, 0.0, 0.0, 0.0, 0.0, 0.0]  0.492268    0.466732   \n",
            "5516  [0.0, 0.0, 0.0, 0.0, 1.0, 0.0, 0.0]  0.493927    0.480515   \n",
            "5517  [1.0, 0.0, 0.0, 0.0, 0.0, 0.0, 0.0]  0.498400    0.464189   \n",
            "\n",
            "      Justification  Refutation   Support    Oppose      Hate  \n",
            "2          0.478756    0.503277  0.506784  0.510053  0.479494  \n",
            "17         0.482748    0.518499  0.500014  0.521222  0.472999  \n",
            "18         0.482479    0.502627  0.483657  0.530611  0.485984  \n",
            "37         0.488058    0.505555  0.505181  0.522575  0.472199  \n",
            "48         0.493536    0.509294  0.487092  0.538837  0.469592  \n",
            "...             ...         ...       ...       ...       ...  \n",
            "5500       0.484861    0.503149  0.502213  0.518856  0.490272  \n",
            "5505       0.478780    0.495977  0.509651  0.513211  0.479872  \n",
            "5511       0.481563    0.500719  0.512489  0.532566  0.486546  \n",
            "5516       0.474008    0.512000  0.504861  0.534316  0.475415  \n",
            "5517       0.479159    0.523312  0.490101  0.510424  0.491498  \n",
            "\n",
            "[1105 rows x 8 columns]\n"
          ]
        }
      ],
      "source": [
        "submit_df.to_csv('submission2.csv', index=False)\n",
        "print(submit_df)\n",
        "#print(test_data.head())"
      ]
    },
    {
      "cell_type": "code",
      "execution_count": null,
      "metadata": {
        "id": "YJXqgYb78wma",
        "colab": {
          "base_uri": "https://localhost:8080/"
        },
        "outputId": "ee3178a1-90fb-4e8c-8255-2f4cdfa3dd93"
      },
      "outputs": [
        {
          "output_type": "stream",
          "name": "stdout",
          "text": [
            "Confusion matrix for Sarcasm:\n",
            "[[858 206]\n",
            " [ 31  10]]\n",
            "score for Sarcasm:\n",
            "(0.5057128275632213, 0.5251467082339996, 0.47823462258004745, None)\n",
            "Confusion matrix for Allegation:\n",
            "[[1023    3]\n",
            " [  78    1]]\n",
            "score for Allegation:\n",
            "(0.5895776566757494, 0.5048671256199571, 0.49300729009125355, None)\n",
            "Confusion matrix for Justification:\n",
            "[[926 134]\n",
            " [ 41   4]]\n",
            "score for Justification:\n",
            "(0.4932931672736538, 0.48123689727463315, 0.4786906812673714, None)\n",
            "Confusion matrix for Refutation:\n",
            "[[193 877]\n",
            " [  6  29]]\n",
            "score for Refutation:\n",
            "(0.5009290381266154, 0.5044726301735648, 0.18290653689844227, None)\n",
            "Confusion matrix for Support:\n",
            "[[292 344]\n",
            " [198 271]]\n",
            "score for Support:\n",
            "(0.5182843869255019, 0.518472328385029, 0.5093250444049733, None)\n",
            "Confusion matrix for Oppose:\n",
            "[[ 13 987]\n",
            " [  4 101]]\n",
            "score for Oppose:\n",
            "(0.4287683823529411, 0.48745238095238097, 0.09744321389686314, None)\n",
            "Confusion matrix for Hate:\n",
            "[[1002    8]\n",
            " [  95    0]]\n",
            "score for Hate:\n",
            "(0.4567000911577028, 0.49603960396039604, 0.47555766492643564, None)\n"
          ]
        }
      ],
      "source": [
        "\n",
        "from sklearn.metrics import confusion_matrix\n",
        "from sklearn.preprocessing import MultiLabelBinarizer\n",
        "from sklearn.metrics import precision_recall_fscore_support\n",
        "\n",
        "\n",
        "# Compute confusion matrix for each predicted label\n",
        "# Define a list of labels\n",
        "labels = ['Sarcasm', 'Allegation', 'Justification', 'Refutation', 'Support', 'Oppose', 'Hate']\n",
        "\n",
        "# unpack values from list of lists\n",
        "col_1, col_2, col_3, col_4, col_5, col_6, col_7 = zip(*submit_df['labels'])\n",
        "\n",
        "# convert tuples to lists\n",
        "col_1, col_2, col_3, col_4, col_5, col_6, col_7 = list(col_1), list(col_2), list(col_3), list(col_4), list(col_5), list(col_6), list(col_7)\n",
        "loop_list = [col_1,col_2, col_3, col_4, col_5, col_6, col_7]\n",
        "count = 0\n",
        "\n",
        "# Convert the labels into a binary array representation\n",
        "mlb = MultiLabelBinarizer()\n",
        "\n",
        "\n",
        "# Loop through each label\n",
        "for label in labels:\n",
        "    y_true = loop_list[count] \n",
        "    y_pred = submit_df[label].tolist() # Extract the predicted label\n",
        "    for i in range(len(y_pred)):\n",
        "      if y_pred[i] < 0.5:\n",
        "          y_pred[i] = 0\n",
        "      else:\n",
        "          y_pred[i] = 1\n",
        "    cm = confusion_matrix(y_true, y_pred) # Calculate the confusion matrix\n",
        "    print(f\"Confusion matrix for {label}:\")\n",
        "    print(cm)\n",
        "    score = precision_recall_fscore_support(y_true, y_pred, average='macro')\n",
        "    print(f\"score for {label}:\")\n",
        "    print(score)\n",
        "    count += 1\n",
        "\n",
        "\n"
      ]
    }
  ],
  "metadata": {
    "environment": {
      "kernel": "python3",
      "name": "tf2-gpu.2-8.m108",
      "type": "gcloud",
      "uri": "gcr.io/deeplearning-platform-release/tf2-gpu.2-8:m108"
    },
    "kernelspec": {
      "display_name": "Python 3 (ipykernel)",
      "language": "python",
      "name": "python3"
    },
    "language_info": {
      "codemirror_mode": {
        "name": "ipython",
        "version": 3
      },
      "file_extension": ".py",
      "mimetype": "text/x-python",
      "name": "python",
      "nbconvert_exporter": "python",
      "pygments_lexer": "ipython3",
      "version": "3.7.12"
    },
    "colab": {
      "provenance": [],
      "machine_shape": "hm",
      "gpuType": "A100",
      "include_colab_link": true
    },
    "widgets": {
      "application/vnd.jupyter.widget-state+json": {
        "3433ae78c062469c9cf92a507f71c59b": {
          "model_module": "@jupyter-widgets/controls",
          "model_name": "HBoxModel",
          "model_module_version": "1.5.0",
          "state": {
            "_dom_classes": [],
            "_model_module": "@jupyter-widgets/controls",
            "_model_module_version": "1.5.0",
            "_model_name": "HBoxModel",
            "_view_count": null,
            "_view_module": "@jupyter-widgets/controls",
            "_view_module_version": "1.5.0",
            "_view_name": "HBoxView",
            "box_style": "",
            "children": [
              "IPY_MODEL_43d2142ccb2045a189f4ed1a16bb2c9f",
              "IPY_MODEL_b016083a53bb4da4aca26de7a170157e",
              "IPY_MODEL_1cc50ed7c1c74a549ff4d245538c721c"
            ],
            "layout": "IPY_MODEL_8805da41b98e4b4aa973212e5aa14ad7"
          }
        },
        "43d2142ccb2045a189f4ed1a16bb2c9f": {
          "model_module": "@jupyter-widgets/controls",
          "model_name": "HTMLModel",
          "model_module_version": "1.5.0",
          "state": {
            "_dom_classes": [],
            "_model_module": "@jupyter-widgets/controls",
            "_model_module_version": "1.5.0",
            "_model_name": "HTMLModel",
            "_view_count": null,
            "_view_module": "@jupyter-widgets/controls",
            "_view_module_version": "1.5.0",
            "_view_name": "HTMLView",
            "description": "",
            "description_tooltip": null,
            "layout": "IPY_MODEL_56c67528a4184f2eafc9689f23cf8066",
            "placeholder": "​",
            "style": "IPY_MODEL_5e2be0c21db4484cb7a71cb87d27ae27",
            "value": "100%"
          }
        },
        "b016083a53bb4da4aca26de7a170157e": {
          "model_module": "@jupyter-widgets/controls",
          "model_name": "FloatProgressModel",
          "model_module_version": "1.5.0",
          "state": {
            "_dom_classes": [],
            "_model_module": "@jupyter-widgets/controls",
            "_model_module_version": "1.5.0",
            "_model_name": "FloatProgressModel",
            "_view_count": null,
            "_view_module": "@jupyter-widgets/controls",
            "_view_module_version": "1.5.0",
            "_view_name": "ProgressView",
            "bar_style": "success",
            "description": "",
            "description_tooltip": null,
            "layout": "IPY_MODEL_bd84ca91b43d4662a0dd742070b6522c",
            "max": 5527,
            "min": 0,
            "orientation": "horizontal",
            "style": "IPY_MODEL_d180b0c4a2344409ac7bdcea1251d068",
            "value": 5527
          }
        },
        "1cc50ed7c1c74a549ff4d245538c721c": {
          "model_module": "@jupyter-widgets/controls",
          "model_name": "HTMLModel",
          "model_module_version": "1.5.0",
          "state": {
            "_dom_classes": [],
            "_model_module": "@jupyter-widgets/controls",
            "_model_module_version": "1.5.0",
            "_model_name": "HTMLModel",
            "_view_count": null,
            "_view_module": "@jupyter-widgets/controls",
            "_view_module_version": "1.5.0",
            "_view_name": "HTMLView",
            "description": "",
            "description_tooltip": null,
            "layout": "IPY_MODEL_68939fedb92e430bb2696339ff6548c2",
            "placeholder": "​",
            "style": "IPY_MODEL_570434bb861046dfb9ab8000e3ecb27a",
            "value": " 5527/5527 [00:00&lt;00:00, 15238.18it/s]"
          }
        },
        "8805da41b98e4b4aa973212e5aa14ad7": {
          "model_module": "@jupyter-widgets/base",
          "model_name": "LayoutModel",
          "model_module_version": "1.2.0",
          "state": {
            "_model_module": "@jupyter-widgets/base",
            "_model_module_version": "1.2.0",
            "_model_name": "LayoutModel",
            "_view_count": null,
            "_view_module": "@jupyter-widgets/base",
            "_view_module_version": "1.2.0",
            "_view_name": "LayoutView",
            "align_content": null,
            "align_items": null,
            "align_self": null,
            "border": null,
            "bottom": null,
            "display": null,
            "flex": null,
            "flex_flow": null,
            "grid_area": null,
            "grid_auto_columns": null,
            "grid_auto_flow": null,
            "grid_auto_rows": null,
            "grid_column": null,
            "grid_gap": null,
            "grid_row": null,
            "grid_template_areas": null,
            "grid_template_columns": null,
            "grid_template_rows": null,
            "height": null,
            "justify_content": null,
            "justify_items": null,
            "left": null,
            "margin": null,
            "max_height": null,
            "max_width": null,
            "min_height": null,
            "min_width": null,
            "object_fit": null,
            "object_position": null,
            "order": null,
            "overflow": null,
            "overflow_x": null,
            "overflow_y": null,
            "padding": null,
            "right": null,
            "top": null,
            "visibility": null,
            "width": null
          }
        },
        "56c67528a4184f2eafc9689f23cf8066": {
          "model_module": "@jupyter-widgets/base",
          "model_name": "LayoutModel",
          "model_module_version": "1.2.0",
          "state": {
            "_model_module": "@jupyter-widgets/base",
            "_model_module_version": "1.2.0",
            "_model_name": "LayoutModel",
            "_view_count": null,
            "_view_module": "@jupyter-widgets/base",
            "_view_module_version": "1.2.0",
            "_view_name": "LayoutView",
            "align_content": null,
            "align_items": null,
            "align_self": null,
            "border": null,
            "bottom": null,
            "display": null,
            "flex": null,
            "flex_flow": null,
            "grid_area": null,
            "grid_auto_columns": null,
            "grid_auto_flow": null,
            "grid_auto_rows": null,
            "grid_column": null,
            "grid_gap": null,
            "grid_row": null,
            "grid_template_areas": null,
            "grid_template_columns": null,
            "grid_template_rows": null,
            "height": null,
            "justify_content": null,
            "justify_items": null,
            "left": null,
            "margin": null,
            "max_height": null,
            "max_width": null,
            "min_height": null,
            "min_width": null,
            "object_fit": null,
            "object_position": null,
            "order": null,
            "overflow": null,
            "overflow_x": null,
            "overflow_y": null,
            "padding": null,
            "right": null,
            "top": null,
            "visibility": null,
            "width": null
          }
        },
        "5e2be0c21db4484cb7a71cb87d27ae27": {
          "model_module": "@jupyter-widgets/controls",
          "model_name": "DescriptionStyleModel",
          "model_module_version": "1.5.0",
          "state": {
            "_model_module": "@jupyter-widgets/controls",
            "_model_module_version": "1.5.0",
            "_model_name": "DescriptionStyleModel",
            "_view_count": null,
            "_view_module": "@jupyter-widgets/base",
            "_view_module_version": "1.2.0",
            "_view_name": "StyleView",
            "description_width": ""
          }
        },
        "bd84ca91b43d4662a0dd742070b6522c": {
          "model_module": "@jupyter-widgets/base",
          "model_name": "LayoutModel",
          "model_module_version": "1.2.0",
          "state": {
            "_model_module": "@jupyter-widgets/base",
            "_model_module_version": "1.2.0",
            "_model_name": "LayoutModel",
            "_view_count": null,
            "_view_module": "@jupyter-widgets/base",
            "_view_module_version": "1.2.0",
            "_view_name": "LayoutView",
            "align_content": null,
            "align_items": null,
            "align_self": null,
            "border": null,
            "bottom": null,
            "display": null,
            "flex": null,
            "flex_flow": null,
            "grid_area": null,
            "grid_auto_columns": null,
            "grid_auto_flow": null,
            "grid_auto_rows": null,
            "grid_column": null,
            "grid_gap": null,
            "grid_row": null,
            "grid_template_areas": null,
            "grid_template_columns": null,
            "grid_template_rows": null,
            "height": null,
            "justify_content": null,
            "justify_items": null,
            "left": null,
            "margin": null,
            "max_height": null,
            "max_width": null,
            "min_height": null,
            "min_width": null,
            "object_fit": null,
            "object_position": null,
            "order": null,
            "overflow": null,
            "overflow_x": null,
            "overflow_y": null,
            "padding": null,
            "right": null,
            "top": null,
            "visibility": null,
            "width": null
          }
        },
        "d180b0c4a2344409ac7bdcea1251d068": {
          "model_module": "@jupyter-widgets/controls",
          "model_name": "ProgressStyleModel",
          "model_module_version": "1.5.0",
          "state": {
            "_model_module": "@jupyter-widgets/controls",
            "_model_module_version": "1.5.0",
            "_model_name": "ProgressStyleModel",
            "_view_count": null,
            "_view_module": "@jupyter-widgets/base",
            "_view_module_version": "1.2.0",
            "_view_name": "StyleView",
            "bar_color": null,
            "description_width": ""
          }
        },
        "68939fedb92e430bb2696339ff6548c2": {
          "model_module": "@jupyter-widgets/base",
          "model_name": "LayoutModel",
          "model_module_version": "1.2.0",
          "state": {
            "_model_module": "@jupyter-widgets/base",
            "_model_module_version": "1.2.0",
            "_model_name": "LayoutModel",
            "_view_count": null,
            "_view_module": "@jupyter-widgets/base",
            "_view_module_version": "1.2.0",
            "_view_name": "LayoutView",
            "align_content": null,
            "align_items": null,
            "align_self": null,
            "border": null,
            "bottom": null,
            "display": null,
            "flex": null,
            "flex_flow": null,
            "grid_area": null,
            "grid_auto_columns": null,
            "grid_auto_flow": null,
            "grid_auto_rows": null,
            "grid_column": null,
            "grid_gap": null,
            "grid_row": null,
            "grid_template_areas": null,
            "grid_template_columns": null,
            "grid_template_rows": null,
            "height": null,
            "justify_content": null,
            "justify_items": null,
            "left": null,
            "margin": null,
            "max_height": null,
            "max_width": null,
            "min_height": null,
            "min_width": null,
            "object_fit": null,
            "object_position": null,
            "order": null,
            "overflow": null,
            "overflow_x": null,
            "overflow_y": null,
            "padding": null,
            "right": null,
            "top": null,
            "visibility": null,
            "width": null
          }
        },
        "570434bb861046dfb9ab8000e3ecb27a": {
          "model_module": "@jupyter-widgets/controls",
          "model_name": "DescriptionStyleModel",
          "model_module_version": "1.5.0",
          "state": {
            "_model_module": "@jupyter-widgets/controls",
            "_model_module_version": "1.5.0",
            "_model_name": "DescriptionStyleModel",
            "_view_count": null,
            "_view_module": "@jupyter-widgets/base",
            "_view_module_version": "1.2.0",
            "_view_name": "StyleView",
            "description_width": ""
          }
        },
        "699a1d5401954535b132e7c325ef2a52": {
          "model_module": "@jupyter-widgets/controls",
          "model_name": "HBoxModel",
          "model_module_version": "1.5.0",
          "state": {
            "_dom_classes": [],
            "_model_module": "@jupyter-widgets/controls",
            "_model_module_version": "1.5.0",
            "_model_name": "HBoxModel",
            "_view_count": null,
            "_view_module": "@jupyter-widgets/controls",
            "_view_module_version": "1.5.0",
            "_view_name": "HBoxView",
            "box_style": "",
            "children": [
              "IPY_MODEL_4fc1a68899f149649f81afdfc209d7ff",
              "IPY_MODEL_398d1c4d773e499c82d06f69390c1813",
              "IPY_MODEL_38e4d316450e4d0c806153da665babfc"
            ],
            "layout": "IPY_MODEL_6fc73e9fd7ca4f91abf813e54bf8c66d"
          }
        },
        "4fc1a68899f149649f81afdfc209d7ff": {
          "model_module": "@jupyter-widgets/controls",
          "model_name": "HTMLModel",
          "model_module_version": "1.5.0",
          "state": {
            "_dom_classes": [],
            "_model_module": "@jupyter-widgets/controls",
            "_model_module_version": "1.5.0",
            "_model_name": "HTMLModel",
            "_view_count": null,
            "_view_module": "@jupyter-widgets/controls",
            "_view_module_version": "1.5.0",
            "_view_name": "HTMLView",
            "description": "",
            "description_tooltip": null,
            "layout": "IPY_MODEL_7d919b65a01c4d21911e3ec78e3f831b",
            "placeholder": "​",
            "style": "IPY_MODEL_4ed8b88b55e44951a0131640481ae0ac",
            "value": ""
          }
        },
        "398d1c4d773e499c82d06f69390c1813": {
          "model_module": "@jupyter-widgets/controls",
          "model_name": "FloatProgressModel",
          "model_module_version": "1.5.0",
          "state": {
            "_dom_classes": [],
            "_model_module": "@jupyter-widgets/controls",
            "_model_module_version": "1.5.0",
            "_model_name": "FloatProgressModel",
            "_view_count": null,
            "_view_module": "@jupyter-widgets/controls",
            "_view_module_version": "1.5.0",
            "_view_name": "ProgressView",
            "bar_style": "success",
            "description": "",
            "description_tooltip": null,
            "layout": "IPY_MODEL_9da1dcf0f7804112a2a3ed2ad803dbb0",
            "max": 1,
            "min": 0,
            "orientation": "horizontal",
            "style": "IPY_MODEL_09186cc180894753afce2fb4c90d9e3f",
            "value": 1
          }
        },
        "38e4d316450e4d0c806153da665babfc": {
          "model_module": "@jupyter-widgets/controls",
          "model_name": "HTMLModel",
          "model_module_version": "1.5.0",
          "state": {
            "_dom_classes": [],
            "_model_module": "@jupyter-widgets/controls",
            "_model_module_version": "1.5.0",
            "_model_name": "HTMLModel",
            "_view_count": null,
            "_view_module": "@jupyter-widgets/controls",
            "_view_module_version": "1.5.0",
            "_view_name": "HTMLView",
            "description": "",
            "description_tooltip": null,
            "layout": "IPY_MODEL_7d2f1783800645058528c5b7b2288c7e",
            "placeholder": "​",
            "style": "IPY_MODEL_55ae17f697204ebbbbc79c52776433af",
            "value": " 87/? [00:57&lt;00:00,  1.85it/s]"
          }
        },
        "6fc73e9fd7ca4f91abf813e54bf8c66d": {
          "model_module": "@jupyter-widgets/base",
          "model_name": "LayoutModel",
          "model_module_version": "1.2.0",
          "state": {
            "_model_module": "@jupyter-widgets/base",
            "_model_module_version": "1.2.0",
            "_model_name": "LayoutModel",
            "_view_count": null,
            "_view_module": "@jupyter-widgets/base",
            "_view_module_version": "1.2.0",
            "_view_name": "LayoutView",
            "align_content": null,
            "align_items": null,
            "align_self": null,
            "border": null,
            "bottom": null,
            "display": null,
            "flex": null,
            "flex_flow": null,
            "grid_area": null,
            "grid_auto_columns": null,
            "grid_auto_flow": null,
            "grid_auto_rows": null,
            "grid_column": null,
            "grid_gap": null,
            "grid_row": null,
            "grid_template_areas": null,
            "grid_template_columns": null,
            "grid_template_rows": null,
            "height": null,
            "justify_content": null,
            "justify_items": null,
            "left": null,
            "margin": null,
            "max_height": null,
            "max_width": null,
            "min_height": null,
            "min_width": null,
            "object_fit": null,
            "object_position": null,
            "order": null,
            "overflow": null,
            "overflow_x": null,
            "overflow_y": null,
            "padding": null,
            "right": null,
            "top": null,
            "visibility": null,
            "width": null
          }
        },
        "7d919b65a01c4d21911e3ec78e3f831b": {
          "model_module": "@jupyter-widgets/base",
          "model_name": "LayoutModel",
          "model_module_version": "1.2.0",
          "state": {
            "_model_module": "@jupyter-widgets/base",
            "_model_module_version": "1.2.0",
            "_model_name": "LayoutModel",
            "_view_count": null,
            "_view_module": "@jupyter-widgets/base",
            "_view_module_version": "1.2.0",
            "_view_name": "LayoutView",
            "align_content": null,
            "align_items": null,
            "align_self": null,
            "border": null,
            "bottom": null,
            "display": null,
            "flex": null,
            "flex_flow": null,
            "grid_area": null,
            "grid_auto_columns": null,
            "grid_auto_flow": null,
            "grid_auto_rows": null,
            "grid_column": null,
            "grid_gap": null,
            "grid_row": null,
            "grid_template_areas": null,
            "grid_template_columns": null,
            "grid_template_rows": null,
            "height": null,
            "justify_content": null,
            "justify_items": null,
            "left": null,
            "margin": null,
            "max_height": null,
            "max_width": null,
            "min_height": null,
            "min_width": null,
            "object_fit": null,
            "object_position": null,
            "order": null,
            "overflow": null,
            "overflow_x": null,
            "overflow_y": null,
            "padding": null,
            "right": null,
            "top": null,
            "visibility": null,
            "width": null
          }
        },
        "4ed8b88b55e44951a0131640481ae0ac": {
          "model_module": "@jupyter-widgets/controls",
          "model_name": "DescriptionStyleModel",
          "model_module_version": "1.5.0",
          "state": {
            "_model_module": "@jupyter-widgets/controls",
            "_model_module_version": "1.5.0",
            "_model_name": "DescriptionStyleModel",
            "_view_count": null,
            "_view_module": "@jupyter-widgets/base",
            "_view_module_version": "1.2.0",
            "_view_name": "StyleView",
            "description_width": ""
          }
        },
        "9da1dcf0f7804112a2a3ed2ad803dbb0": {
          "model_module": "@jupyter-widgets/base",
          "model_name": "LayoutModel",
          "model_module_version": "1.2.0",
          "state": {
            "_model_module": "@jupyter-widgets/base",
            "_model_module_version": "1.2.0",
            "_model_name": "LayoutModel",
            "_view_count": null,
            "_view_module": "@jupyter-widgets/base",
            "_view_module_version": "1.2.0",
            "_view_name": "LayoutView",
            "align_content": null,
            "align_items": null,
            "align_self": null,
            "border": null,
            "bottom": null,
            "display": null,
            "flex": null,
            "flex_flow": null,
            "grid_area": null,
            "grid_auto_columns": null,
            "grid_auto_flow": null,
            "grid_auto_rows": null,
            "grid_column": null,
            "grid_gap": null,
            "grid_row": null,
            "grid_template_areas": null,
            "grid_template_columns": null,
            "grid_template_rows": null,
            "height": null,
            "justify_content": null,
            "justify_items": null,
            "left": null,
            "margin": null,
            "max_height": null,
            "max_width": null,
            "min_height": null,
            "min_width": null,
            "object_fit": null,
            "object_position": null,
            "order": null,
            "overflow": null,
            "overflow_x": null,
            "overflow_y": null,
            "padding": null,
            "right": null,
            "top": null,
            "visibility": null,
            "width": "20px"
          }
        },
        "09186cc180894753afce2fb4c90d9e3f": {
          "model_module": "@jupyter-widgets/controls",
          "model_name": "ProgressStyleModel",
          "model_module_version": "1.5.0",
          "state": {
            "_model_module": "@jupyter-widgets/controls",
            "_model_module_version": "1.5.0",
            "_model_name": "ProgressStyleModel",
            "_view_count": null,
            "_view_module": "@jupyter-widgets/base",
            "_view_module_version": "1.2.0",
            "_view_name": "StyleView",
            "bar_color": null,
            "description_width": ""
          }
        },
        "7d2f1783800645058528c5b7b2288c7e": {
          "model_module": "@jupyter-widgets/base",
          "model_name": "LayoutModel",
          "model_module_version": "1.2.0",
          "state": {
            "_model_module": "@jupyter-widgets/base",
            "_model_module_version": "1.2.0",
            "_model_name": "LayoutModel",
            "_view_count": null,
            "_view_module": "@jupyter-widgets/base",
            "_view_module_version": "1.2.0",
            "_view_name": "LayoutView",
            "align_content": null,
            "align_items": null,
            "align_self": null,
            "border": null,
            "bottom": null,
            "display": null,
            "flex": null,
            "flex_flow": null,
            "grid_area": null,
            "grid_auto_columns": null,
            "grid_auto_flow": null,
            "grid_auto_rows": null,
            "grid_column": null,
            "grid_gap": null,
            "grid_row": null,
            "grid_template_areas": null,
            "grid_template_columns": null,
            "grid_template_rows": null,
            "height": null,
            "justify_content": null,
            "justify_items": null,
            "left": null,
            "margin": null,
            "max_height": null,
            "max_width": null,
            "min_height": null,
            "min_width": null,
            "object_fit": null,
            "object_position": null,
            "order": null,
            "overflow": null,
            "overflow_x": null,
            "overflow_y": null,
            "padding": null,
            "right": null,
            "top": null,
            "visibility": null,
            "width": null
          }
        },
        "55ae17f697204ebbbbc79c52776433af": {
          "model_module": "@jupyter-widgets/controls",
          "model_name": "DescriptionStyleModel",
          "model_module_version": "1.5.0",
          "state": {
            "_model_module": "@jupyter-widgets/controls",
            "_model_module_version": "1.5.0",
            "_model_name": "DescriptionStyleModel",
            "_view_count": null,
            "_view_module": "@jupyter-widgets/base",
            "_view_module_version": "1.2.0",
            "_view_name": "StyleView",
            "description_width": ""
          }
        },
        "fdc7340fede14db6b6d0fa68c89f2bde": {
          "model_module": "@jupyter-widgets/controls",
          "model_name": "HBoxModel",
          "model_module_version": "1.5.0",
          "state": {
            "_dom_classes": [],
            "_model_module": "@jupyter-widgets/controls",
            "_model_module_version": "1.5.0",
            "_model_name": "HBoxModel",
            "_view_count": null,
            "_view_module": "@jupyter-widgets/controls",
            "_view_module_version": "1.5.0",
            "_view_name": "HBoxView",
            "box_style": "",
            "children": [
              "IPY_MODEL_e516618c8c25409ea0596f5a7ee822a3",
              "IPY_MODEL_93a009e34d9c45bfa5f21a706fcfe3dc",
              "IPY_MODEL_49da5bbee88c4650a2de7f5597f65e5f"
            ],
            "layout": "IPY_MODEL_c2ee868c940d40aab0e53733e8709a1b"
          }
        },
        "e516618c8c25409ea0596f5a7ee822a3": {
          "model_module": "@jupyter-widgets/controls",
          "model_name": "HTMLModel",
          "model_module_version": "1.5.0",
          "state": {
            "_dom_classes": [],
            "_model_module": "@jupyter-widgets/controls",
            "_model_module_version": "1.5.0",
            "_model_name": "HTMLModel",
            "_view_count": null,
            "_view_module": "@jupyter-widgets/controls",
            "_view_module_version": "1.5.0",
            "_view_name": "HTMLView",
            "description": "",
            "description_tooltip": null,
            "layout": "IPY_MODEL_b1a320b61e57417089ac850666c5f4bc",
            "placeholder": "​",
            "style": "IPY_MODEL_051ec52c99a8494199be6ae5b038cb8c",
            "value": ""
          }
        },
        "93a009e34d9c45bfa5f21a706fcfe3dc": {
          "model_module": "@jupyter-widgets/controls",
          "model_name": "FloatProgressModel",
          "model_module_version": "1.5.0",
          "state": {
            "_dom_classes": [],
            "_model_module": "@jupyter-widgets/controls",
            "_model_module_version": "1.5.0",
            "_model_name": "FloatProgressModel",
            "_view_count": null,
            "_view_module": "@jupyter-widgets/controls",
            "_view_module_version": "1.5.0",
            "_view_name": "ProgressView",
            "bar_style": "success",
            "description": "",
            "description_tooltip": null,
            "layout": "IPY_MODEL_228e2890669f49d287311cf84dd4de28",
            "max": 1,
            "min": 0,
            "orientation": "horizontal",
            "style": "IPY_MODEL_3073a4d0dc1c4937bba38c83eae85b5d",
            "value": 1
          }
        },
        "49da5bbee88c4650a2de7f5597f65e5f": {
          "model_module": "@jupyter-widgets/controls",
          "model_name": "HTMLModel",
          "model_module_version": "1.5.0",
          "state": {
            "_dom_classes": [],
            "_model_module": "@jupyter-widgets/controls",
            "_model_module_version": "1.5.0",
            "_model_name": "HTMLModel",
            "_view_count": null,
            "_view_module": "@jupyter-widgets/controls",
            "_view_module_version": "1.5.0",
            "_view_name": "HTMLView",
            "description": "",
            "description_tooltip": null,
            "layout": "IPY_MODEL_7f0952416d2846f9923c0964d673088e",
            "placeholder": "​",
            "style": "IPY_MODEL_5bdeff56402d4bac9f9bdc5e95b8f574",
            "value": " 87/? [00:57&lt;00:00,  1.84it/s]"
          }
        },
        "c2ee868c940d40aab0e53733e8709a1b": {
          "model_module": "@jupyter-widgets/base",
          "model_name": "LayoutModel",
          "model_module_version": "1.2.0",
          "state": {
            "_model_module": "@jupyter-widgets/base",
            "_model_module_version": "1.2.0",
            "_model_name": "LayoutModel",
            "_view_count": null,
            "_view_module": "@jupyter-widgets/base",
            "_view_module_version": "1.2.0",
            "_view_name": "LayoutView",
            "align_content": null,
            "align_items": null,
            "align_self": null,
            "border": null,
            "bottom": null,
            "display": null,
            "flex": null,
            "flex_flow": null,
            "grid_area": null,
            "grid_auto_columns": null,
            "grid_auto_flow": null,
            "grid_auto_rows": null,
            "grid_column": null,
            "grid_gap": null,
            "grid_row": null,
            "grid_template_areas": null,
            "grid_template_columns": null,
            "grid_template_rows": null,
            "height": null,
            "justify_content": null,
            "justify_items": null,
            "left": null,
            "margin": null,
            "max_height": null,
            "max_width": null,
            "min_height": null,
            "min_width": null,
            "object_fit": null,
            "object_position": null,
            "order": null,
            "overflow": null,
            "overflow_x": null,
            "overflow_y": null,
            "padding": null,
            "right": null,
            "top": null,
            "visibility": null,
            "width": null
          }
        },
        "b1a320b61e57417089ac850666c5f4bc": {
          "model_module": "@jupyter-widgets/base",
          "model_name": "LayoutModel",
          "model_module_version": "1.2.0",
          "state": {
            "_model_module": "@jupyter-widgets/base",
            "_model_module_version": "1.2.0",
            "_model_name": "LayoutModel",
            "_view_count": null,
            "_view_module": "@jupyter-widgets/base",
            "_view_module_version": "1.2.0",
            "_view_name": "LayoutView",
            "align_content": null,
            "align_items": null,
            "align_self": null,
            "border": null,
            "bottom": null,
            "display": null,
            "flex": null,
            "flex_flow": null,
            "grid_area": null,
            "grid_auto_columns": null,
            "grid_auto_flow": null,
            "grid_auto_rows": null,
            "grid_column": null,
            "grid_gap": null,
            "grid_row": null,
            "grid_template_areas": null,
            "grid_template_columns": null,
            "grid_template_rows": null,
            "height": null,
            "justify_content": null,
            "justify_items": null,
            "left": null,
            "margin": null,
            "max_height": null,
            "max_width": null,
            "min_height": null,
            "min_width": null,
            "object_fit": null,
            "object_position": null,
            "order": null,
            "overflow": null,
            "overflow_x": null,
            "overflow_y": null,
            "padding": null,
            "right": null,
            "top": null,
            "visibility": null,
            "width": null
          }
        },
        "051ec52c99a8494199be6ae5b038cb8c": {
          "model_module": "@jupyter-widgets/controls",
          "model_name": "DescriptionStyleModel",
          "model_module_version": "1.5.0",
          "state": {
            "_model_module": "@jupyter-widgets/controls",
            "_model_module_version": "1.5.0",
            "_model_name": "DescriptionStyleModel",
            "_view_count": null,
            "_view_module": "@jupyter-widgets/base",
            "_view_module_version": "1.2.0",
            "_view_name": "StyleView",
            "description_width": ""
          }
        },
        "228e2890669f49d287311cf84dd4de28": {
          "model_module": "@jupyter-widgets/base",
          "model_name": "LayoutModel",
          "model_module_version": "1.2.0",
          "state": {
            "_model_module": "@jupyter-widgets/base",
            "_model_module_version": "1.2.0",
            "_model_name": "LayoutModel",
            "_view_count": null,
            "_view_module": "@jupyter-widgets/base",
            "_view_module_version": "1.2.0",
            "_view_name": "LayoutView",
            "align_content": null,
            "align_items": null,
            "align_self": null,
            "border": null,
            "bottom": null,
            "display": null,
            "flex": null,
            "flex_flow": null,
            "grid_area": null,
            "grid_auto_columns": null,
            "grid_auto_flow": null,
            "grid_auto_rows": null,
            "grid_column": null,
            "grid_gap": null,
            "grid_row": null,
            "grid_template_areas": null,
            "grid_template_columns": null,
            "grid_template_rows": null,
            "height": null,
            "justify_content": null,
            "justify_items": null,
            "left": null,
            "margin": null,
            "max_height": null,
            "max_width": null,
            "min_height": null,
            "min_width": null,
            "object_fit": null,
            "object_position": null,
            "order": null,
            "overflow": null,
            "overflow_x": null,
            "overflow_y": null,
            "padding": null,
            "right": null,
            "top": null,
            "visibility": null,
            "width": "20px"
          }
        },
        "3073a4d0dc1c4937bba38c83eae85b5d": {
          "model_module": "@jupyter-widgets/controls",
          "model_name": "ProgressStyleModel",
          "model_module_version": "1.5.0",
          "state": {
            "_model_module": "@jupyter-widgets/controls",
            "_model_module_version": "1.5.0",
            "_model_name": "ProgressStyleModel",
            "_view_count": null,
            "_view_module": "@jupyter-widgets/base",
            "_view_module_version": "1.2.0",
            "_view_name": "StyleView",
            "bar_color": null,
            "description_width": ""
          }
        },
        "7f0952416d2846f9923c0964d673088e": {
          "model_module": "@jupyter-widgets/base",
          "model_name": "LayoutModel",
          "model_module_version": "1.2.0",
          "state": {
            "_model_module": "@jupyter-widgets/base",
            "_model_module_version": "1.2.0",
            "_model_name": "LayoutModel",
            "_view_count": null,
            "_view_module": "@jupyter-widgets/base",
            "_view_module_version": "1.2.0",
            "_view_name": "LayoutView",
            "align_content": null,
            "align_items": null,
            "align_self": null,
            "border": null,
            "bottom": null,
            "display": null,
            "flex": null,
            "flex_flow": null,
            "grid_area": null,
            "grid_auto_columns": null,
            "grid_auto_flow": null,
            "grid_auto_rows": null,
            "grid_column": null,
            "grid_gap": null,
            "grid_row": null,
            "grid_template_areas": null,
            "grid_template_columns": null,
            "grid_template_rows": null,
            "height": null,
            "justify_content": null,
            "justify_items": null,
            "left": null,
            "margin": null,
            "max_height": null,
            "max_width": null,
            "min_height": null,
            "min_width": null,
            "object_fit": null,
            "object_position": null,
            "order": null,
            "overflow": null,
            "overflow_x": null,
            "overflow_y": null,
            "padding": null,
            "right": null,
            "top": null,
            "visibility": null,
            "width": null
          }
        },
        "5bdeff56402d4bac9f9bdc5e95b8f574": {
          "model_module": "@jupyter-widgets/controls",
          "model_name": "DescriptionStyleModel",
          "model_module_version": "1.5.0",
          "state": {
            "_model_module": "@jupyter-widgets/controls",
            "_model_module_version": "1.5.0",
            "_model_name": "DescriptionStyleModel",
            "_view_count": null,
            "_view_module": "@jupyter-widgets/base",
            "_view_module_version": "1.2.0",
            "_view_name": "StyleView",
            "description_width": ""
          }
        },
        "c52ef741625048d5a429f28116219692": {
          "model_module": "@jupyter-widgets/controls",
          "model_name": "HBoxModel",
          "model_module_version": "1.5.0",
          "state": {
            "_dom_classes": [],
            "_model_module": "@jupyter-widgets/controls",
            "_model_module_version": "1.5.0",
            "_model_name": "HBoxModel",
            "_view_count": null,
            "_view_module": "@jupyter-widgets/controls",
            "_view_module_version": "1.5.0",
            "_view_name": "HBoxView",
            "box_style": "",
            "children": [
              "IPY_MODEL_07ecb4866d8c489488776eff29b9fc3c",
              "IPY_MODEL_0d4053c99ebe4c9985c923e878a2b552",
              "IPY_MODEL_05c0b9fe2e054383ac7ff9933edaadfb"
            ],
            "layout": "IPY_MODEL_faaf7a89dd4d40f984c1705953bc2620"
          }
        },
        "07ecb4866d8c489488776eff29b9fc3c": {
          "model_module": "@jupyter-widgets/controls",
          "model_name": "HTMLModel",
          "model_module_version": "1.5.0",
          "state": {
            "_dom_classes": [],
            "_model_module": "@jupyter-widgets/controls",
            "_model_module_version": "1.5.0",
            "_model_name": "HTMLModel",
            "_view_count": null,
            "_view_module": "@jupyter-widgets/controls",
            "_view_module_version": "1.5.0",
            "_view_name": "HTMLView",
            "description": "",
            "description_tooltip": null,
            "layout": "IPY_MODEL_f341e48275554f4ab0284a4bbaa6d1d1",
            "placeholder": "​",
            "style": "IPY_MODEL_9f6f18ce02984fd7a63cb4ffe4f16d8a",
            "value": ""
          }
        },
        "0d4053c99ebe4c9985c923e878a2b552": {
          "model_module": "@jupyter-widgets/controls",
          "model_name": "FloatProgressModel",
          "model_module_version": "1.5.0",
          "state": {
            "_dom_classes": [],
            "_model_module": "@jupyter-widgets/controls",
            "_model_module_version": "1.5.0",
            "_model_name": "FloatProgressModel",
            "_view_count": null,
            "_view_module": "@jupyter-widgets/controls",
            "_view_module_version": "1.5.0",
            "_view_name": "ProgressView",
            "bar_style": "success",
            "description": "",
            "description_tooltip": null,
            "layout": "IPY_MODEL_aa572d579274491aa9cabb5b4eced5d2",
            "max": 1,
            "min": 0,
            "orientation": "horizontal",
            "style": "IPY_MODEL_51196eb2f6bf42eab1ea1bec1635ff30",
            "value": 1
          }
        },
        "05c0b9fe2e054383ac7ff9933edaadfb": {
          "model_module": "@jupyter-widgets/controls",
          "model_name": "HTMLModel",
          "model_module_version": "1.5.0",
          "state": {
            "_dom_classes": [],
            "_model_module": "@jupyter-widgets/controls",
            "_model_module_version": "1.5.0",
            "_model_name": "HTMLModel",
            "_view_count": null,
            "_view_module": "@jupyter-widgets/controls",
            "_view_module_version": "1.5.0",
            "_view_name": "HTMLView",
            "description": "",
            "description_tooltip": null,
            "layout": "IPY_MODEL_1169563b229840bcb45eea4a7fea47d0",
            "placeholder": "​",
            "style": "IPY_MODEL_34beb1ccd7a74216b45a0430bbc5c1a3",
            "value": " 87/? [00:57&lt;00:00,  1.84it/s]"
          }
        },
        "faaf7a89dd4d40f984c1705953bc2620": {
          "model_module": "@jupyter-widgets/base",
          "model_name": "LayoutModel",
          "model_module_version": "1.2.0",
          "state": {
            "_model_module": "@jupyter-widgets/base",
            "_model_module_version": "1.2.0",
            "_model_name": "LayoutModel",
            "_view_count": null,
            "_view_module": "@jupyter-widgets/base",
            "_view_module_version": "1.2.0",
            "_view_name": "LayoutView",
            "align_content": null,
            "align_items": null,
            "align_self": null,
            "border": null,
            "bottom": null,
            "display": null,
            "flex": null,
            "flex_flow": null,
            "grid_area": null,
            "grid_auto_columns": null,
            "grid_auto_flow": null,
            "grid_auto_rows": null,
            "grid_column": null,
            "grid_gap": null,
            "grid_row": null,
            "grid_template_areas": null,
            "grid_template_columns": null,
            "grid_template_rows": null,
            "height": null,
            "justify_content": null,
            "justify_items": null,
            "left": null,
            "margin": null,
            "max_height": null,
            "max_width": null,
            "min_height": null,
            "min_width": null,
            "object_fit": null,
            "object_position": null,
            "order": null,
            "overflow": null,
            "overflow_x": null,
            "overflow_y": null,
            "padding": null,
            "right": null,
            "top": null,
            "visibility": null,
            "width": null
          }
        },
        "f341e48275554f4ab0284a4bbaa6d1d1": {
          "model_module": "@jupyter-widgets/base",
          "model_name": "LayoutModel",
          "model_module_version": "1.2.0",
          "state": {
            "_model_module": "@jupyter-widgets/base",
            "_model_module_version": "1.2.0",
            "_model_name": "LayoutModel",
            "_view_count": null,
            "_view_module": "@jupyter-widgets/base",
            "_view_module_version": "1.2.0",
            "_view_name": "LayoutView",
            "align_content": null,
            "align_items": null,
            "align_self": null,
            "border": null,
            "bottom": null,
            "display": null,
            "flex": null,
            "flex_flow": null,
            "grid_area": null,
            "grid_auto_columns": null,
            "grid_auto_flow": null,
            "grid_auto_rows": null,
            "grid_column": null,
            "grid_gap": null,
            "grid_row": null,
            "grid_template_areas": null,
            "grid_template_columns": null,
            "grid_template_rows": null,
            "height": null,
            "justify_content": null,
            "justify_items": null,
            "left": null,
            "margin": null,
            "max_height": null,
            "max_width": null,
            "min_height": null,
            "min_width": null,
            "object_fit": null,
            "object_position": null,
            "order": null,
            "overflow": null,
            "overflow_x": null,
            "overflow_y": null,
            "padding": null,
            "right": null,
            "top": null,
            "visibility": null,
            "width": null
          }
        },
        "9f6f18ce02984fd7a63cb4ffe4f16d8a": {
          "model_module": "@jupyter-widgets/controls",
          "model_name": "DescriptionStyleModel",
          "model_module_version": "1.5.0",
          "state": {
            "_model_module": "@jupyter-widgets/controls",
            "_model_module_version": "1.5.0",
            "_model_name": "DescriptionStyleModel",
            "_view_count": null,
            "_view_module": "@jupyter-widgets/base",
            "_view_module_version": "1.2.0",
            "_view_name": "StyleView",
            "description_width": ""
          }
        },
        "aa572d579274491aa9cabb5b4eced5d2": {
          "model_module": "@jupyter-widgets/base",
          "model_name": "LayoutModel",
          "model_module_version": "1.2.0",
          "state": {
            "_model_module": "@jupyter-widgets/base",
            "_model_module_version": "1.2.0",
            "_model_name": "LayoutModel",
            "_view_count": null,
            "_view_module": "@jupyter-widgets/base",
            "_view_module_version": "1.2.0",
            "_view_name": "LayoutView",
            "align_content": null,
            "align_items": null,
            "align_self": null,
            "border": null,
            "bottom": null,
            "display": null,
            "flex": null,
            "flex_flow": null,
            "grid_area": null,
            "grid_auto_columns": null,
            "grid_auto_flow": null,
            "grid_auto_rows": null,
            "grid_column": null,
            "grid_gap": null,
            "grid_row": null,
            "grid_template_areas": null,
            "grid_template_columns": null,
            "grid_template_rows": null,
            "height": null,
            "justify_content": null,
            "justify_items": null,
            "left": null,
            "margin": null,
            "max_height": null,
            "max_width": null,
            "min_height": null,
            "min_width": null,
            "object_fit": null,
            "object_position": null,
            "order": null,
            "overflow": null,
            "overflow_x": null,
            "overflow_y": null,
            "padding": null,
            "right": null,
            "top": null,
            "visibility": null,
            "width": "20px"
          }
        },
        "51196eb2f6bf42eab1ea1bec1635ff30": {
          "model_module": "@jupyter-widgets/controls",
          "model_name": "ProgressStyleModel",
          "model_module_version": "1.5.0",
          "state": {
            "_model_module": "@jupyter-widgets/controls",
            "_model_module_version": "1.5.0",
            "_model_name": "ProgressStyleModel",
            "_view_count": null,
            "_view_module": "@jupyter-widgets/base",
            "_view_module_version": "1.2.0",
            "_view_name": "StyleView",
            "bar_color": null,
            "description_width": ""
          }
        },
        "1169563b229840bcb45eea4a7fea47d0": {
          "model_module": "@jupyter-widgets/base",
          "model_name": "LayoutModel",
          "model_module_version": "1.2.0",
          "state": {
            "_model_module": "@jupyter-widgets/base",
            "_model_module_version": "1.2.0",
            "_model_name": "LayoutModel",
            "_view_count": null,
            "_view_module": "@jupyter-widgets/base",
            "_view_module_version": "1.2.0",
            "_view_name": "LayoutView",
            "align_content": null,
            "align_items": null,
            "align_self": null,
            "border": null,
            "bottom": null,
            "display": null,
            "flex": null,
            "flex_flow": null,
            "grid_area": null,
            "grid_auto_columns": null,
            "grid_auto_flow": null,
            "grid_auto_rows": null,
            "grid_column": null,
            "grid_gap": null,
            "grid_row": null,
            "grid_template_areas": null,
            "grid_template_columns": null,
            "grid_template_rows": null,
            "height": null,
            "justify_content": null,
            "justify_items": null,
            "left": null,
            "margin": null,
            "max_height": null,
            "max_width": null,
            "min_height": null,
            "min_width": null,
            "object_fit": null,
            "object_position": null,
            "order": null,
            "overflow": null,
            "overflow_x": null,
            "overflow_y": null,
            "padding": null,
            "right": null,
            "top": null,
            "visibility": null,
            "width": null
          }
        },
        "34beb1ccd7a74216b45a0430bbc5c1a3": {
          "model_module": "@jupyter-widgets/controls",
          "model_name": "DescriptionStyleModel",
          "model_module_version": "1.5.0",
          "state": {
            "_model_module": "@jupyter-widgets/controls",
            "_model_module_version": "1.5.0",
            "_model_name": "DescriptionStyleModel",
            "_view_count": null,
            "_view_module": "@jupyter-widgets/base",
            "_view_module_version": "1.2.0",
            "_view_name": "StyleView",
            "description_width": ""
          }
        },
        "5a24367bb07742b09074e102d2aae79f": {
          "model_module": "@jupyter-widgets/controls",
          "model_name": "HBoxModel",
          "model_module_version": "1.5.0",
          "state": {
            "_dom_classes": [],
            "_model_module": "@jupyter-widgets/controls",
            "_model_module_version": "1.5.0",
            "_model_name": "HBoxModel",
            "_view_count": null,
            "_view_module": "@jupyter-widgets/controls",
            "_view_module_version": "1.5.0",
            "_view_name": "HBoxView",
            "box_style": "",
            "children": [
              "IPY_MODEL_50736dc660724fedb96cc9b04408105f",
              "IPY_MODEL_2e079d5436674cbfa7ad2f87eadd6abf",
              "IPY_MODEL_11f136c56cb3475599583819b9b32ca0"
            ],
            "layout": "IPY_MODEL_b645828bf8e74beda6757be5dea390cc"
          }
        },
        "50736dc660724fedb96cc9b04408105f": {
          "model_module": "@jupyter-widgets/controls",
          "model_name": "HTMLModel",
          "model_module_version": "1.5.0",
          "state": {
            "_dom_classes": [],
            "_model_module": "@jupyter-widgets/controls",
            "_model_module_version": "1.5.0",
            "_model_name": "HTMLModel",
            "_view_count": null,
            "_view_module": "@jupyter-widgets/controls",
            "_view_module_version": "1.5.0",
            "_view_name": "HTMLView",
            "description": "",
            "description_tooltip": null,
            "layout": "IPY_MODEL_9f74eb6182b64beca73bc1ca9edab372",
            "placeholder": "​",
            "style": "IPY_MODEL_f18a0657a27e418d8887ba65cc99f727",
            "value": ""
          }
        },
        "2e079d5436674cbfa7ad2f87eadd6abf": {
          "model_module": "@jupyter-widgets/controls",
          "model_name": "FloatProgressModel",
          "model_module_version": "1.5.0",
          "state": {
            "_dom_classes": [],
            "_model_module": "@jupyter-widgets/controls",
            "_model_module_version": "1.5.0",
            "_model_name": "FloatProgressModel",
            "_view_count": null,
            "_view_module": "@jupyter-widgets/controls",
            "_view_module_version": "1.5.0",
            "_view_name": "ProgressView",
            "bar_style": "success",
            "description": "",
            "description_tooltip": null,
            "layout": "IPY_MODEL_025b2fa2a8be48e0a1ef0bacf5dc1ce4",
            "max": 1,
            "min": 0,
            "orientation": "horizontal",
            "style": "IPY_MODEL_9b50dd83e2804fcb806dfde115f00671",
            "value": 1
          }
        },
        "11f136c56cb3475599583819b9b32ca0": {
          "model_module": "@jupyter-widgets/controls",
          "model_name": "HTMLModel",
          "model_module_version": "1.5.0",
          "state": {
            "_dom_classes": [],
            "_model_module": "@jupyter-widgets/controls",
            "_model_module_version": "1.5.0",
            "_model_name": "HTMLModel",
            "_view_count": null,
            "_view_module": "@jupyter-widgets/controls",
            "_view_module_version": "1.5.0",
            "_view_name": "HTMLView",
            "description": "",
            "description_tooltip": null,
            "layout": "IPY_MODEL_2691fd3fefd447c2b0e7cb379bcf2b26",
            "placeholder": "​",
            "style": "IPY_MODEL_cfb8951979e3458bbf9e662a45f24d94",
            "value": " 87/? [00:57&lt;00:00,  1.84it/s]"
          }
        },
        "b645828bf8e74beda6757be5dea390cc": {
          "model_module": "@jupyter-widgets/base",
          "model_name": "LayoutModel",
          "model_module_version": "1.2.0",
          "state": {
            "_model_module": "@jupyter-widgets/base",
            "_model_module_version": "1.2.0",
            "_model_name": "LayoutModel",
            "_view_count": null,
            "_view_module": "@jupyter-widgets/base",
            "_view_module_version": "1.2.0",
            "_view_name": "LayoutView",
            "align_content": null,
            "align_items": null,
            "align_self": null,
            "border": null,
            "bottom": null,
            "display": null,
            "flex": null,
            "flex_flow": null,
            "grid_area": null,
            "grid_auto_columns": null,
            "grid_auto_flow": null,
            "grid_auto_rows": null,
            "grid_column": null,
            "grid_gap": null,
            "grid_row": null,
            "grid_template_areas": null,
            "grid_template_columns": null,
            "grid_template_rows": null,
            "height": null,
            "justify_content": null,
            "justify_items": null,
            "left": null,
            "margin": null,
            "max_height": null,
            "max_width": null,
            "min_height": null,
            "min_width": null,
            "object_fit": null,
            "object_position": null,
            "order": null,
            "overflow": null,
            "overflow_x": null,
            "overflow_y": null,
            "padding": null,
            "right": null,
            "top": null,
            "visibility": null,
            "width": null
          }
        },
        "9f74eb6182b64beca73bc1ca9edab372": {
          "model_module": "@jupyter-widgets/base",
          "model_name": "LayoutModel",
          "model_module_version": "1.2.0",
          "state": {
            "_model_module": "@jupyter-widgets/base",
            "_model_module_version": "1.2.0",
            "_model_name": "LayoutModel",
            "_view_count": null,
            "_view_module": "@jupyter-widgets/base",
            "_view_module_version": "1.2.0",
            "_view_name": "LayoutView",
            "align_content": null,
            "align_items": null,
            "align_self": null,
            "border": null,
            "bottom": null,
            "display": null,
            "flex": null,
            "flex_flow": null,
            "grid_area": null,
            "grid_auto_columns": null,
            "grid_auto_flow": null,
            "grid_auto_rows": null,
            "grid_column": null,
            "grid_gap": null,
            "grid_row": null,
            "grid_template_areas": null,
            "grid_template_columns": null,
            "grid_template_rows": null,
            "height": null,
            "justify_content": null,
            "justify_items": null,
            "left": null,
            "margin": null,
            "max_height": null,
            "max_width": null,
            "min_height": null,
            "min_width": null,
            "object_fit": null,
            "object_position": null,
            "order": null,
            "overflow": null,
            "overflow_x": null,
            "overflow_y": null,
            "padding": null,
            "right": null,
            "top": null,
            "visibility": null,
            "width": null
          }
        },
        "f18a0657a27e418d8887ba65cc99f727": {
          "model_module": "@jupyter-widgets/controls",
          "model_name": "DescriptionStyleModel",
          "model_module_version": "1.5.0",
          "state": {
            "_model_module": "@jupyter-widgets/controls",
            "_model_module_version": "1.5.0",
            "_model_name": "DescriptionStyleModel",
            "_view_count": null,
            "_view_module": "@jupyter-widgets/base",
            "_view_module_version": "1.2.0",
            "_view_name": "StyleView",
            "description_width": ""
          }
        },
        "025b2fa2a8be48e0a1ef0bacf5dc1ce4": {
          "model_module": "@jupyter-widgets/base",
          "model_name": "LayoutModel",
          "model_module_version": "1.2.0",
          "state": {
            "_model_module": "@jupyter-widgets/base",
            "_model_module_version": "1.2.0",
            "_model_name": "LayoutModel",
            "_view_count": null,
            "_view_module": "@jupyter-widgets/base",
            "_view_module_version": "1.2.0",
            "_view_name": "LayoutView",
            "align_content": null,
            "align_items": null,
            "align_self": null,
            "border": null,
            "bottom": null,
            "display": null,
            "flex": null,
            "flex_flow": null,
            "grid_area": null,
            "grid_auto_columns": null,
            "grid_auto_flow": null,
            "grid_auto_rows": null,
            "grid_column": null,
            "grid_gap": null,
            "grid_row": null,
            "grid_template_areas": null,
            "grid_template_columns": null,
            "grid_template_rows": null,
            "height": null,
            "justify_content": null,
            "justify_items": null,
            "left": null,
            "margin": null,
            "max_height": null,
            "max_width": null,
            "min_height": null,
            "min_width": null,
            "object_fit": null,
            "object_position": null,
            "order": null,
            "overflow": null,
            "overflow_x": null,
            "overflow_y": null,
            "padding": null,
            "right": null,
            "top": null,
            "visibility": null,
            "width": "20px"
          }
        },
        "9b50dd83e2804fcb806dfde115f00671": {
          "model_module": "@jupyter-widgets/controls",
          "model_name": "ProgressStyleModel",
          "model_module_version": "1.5.0",
          "state": {
            "_model_module": "@jupyter-widgets/controls",
            "_model_module_version": "1.5.0",
            "_model_name": "ProgressStyleModel",
            "_view_count": null,
            "_view_module": "@jupyter-widgets/base",
            "_view_module_version": "1.2.0",
            "_view_name": "StyleView",
            "bar_color": null,
            "description_width": ""
          }
        },
        "2691fd3fefd447c2b0e7cb379bcf2b26": {
          "model_module": "@jupyter-widgets/base",
          "model_name": "LayoutModel",
          "model_module_version": "1.2.0",
          "state": {
            "_model_module": "@jupyter-widgets/base",
            "_model_module_version": "1.2.0",
            "_model_name": "LayoutModel",
            "_view_count": null,
            "_view_module": "@jupyter-widgets/base",
            "_view_module_version": "1.2.0",
            "_view_name": "LayoutView",
            "align_content": null,
            "align_items": null,
            "align_self": null,
            "border": null,
            "bottom": null,
            "display": null,
            "flex": null,
            "flex_flow": null,
            "grid_area": null,
            "grid_auto_columns": null,
            "grid_auto_flow": null,
            "grid_auto_rows": null,
            "grid_column": null,
            "grid_gap": null,
            "grid_row": null,
            "grid_template_areas": null,
            "grid_template_columns": null,
            "grid_template_rows": null,
            "height": null,
            "justify_content": null,
            "justify_items": null,
            "left": null,
            "margin": null,
            "max_height": null,
            "max_width": null,
            "min_height": null,
            "min_width": null,
            "object_fit": null,
            "object_position": null,
            "order": null,
            "overflow": null,
            "overflow_x": null,
            "overflow_y": null,
            "padding": null,
            "right": null,
            "top": null,
            "visibility": null,
            "width": null
          }
        },
        "cfb8951979e3458bbf9e662a45f24d94": {
          "model_module": "@jupyter-widgets/controls",
          "model_name": "DescriptionStyleModel",
          "model_module_version": "1.5.0",
          "state": {
            "_model_module": "@jupyter-widgets/controls",
            "_model_module_version": "1.5.0",
            "_model_name": "DescriptionStyleModel",
            "_view_count": null,
            "_view_module": "@jupyter-widgets/base",
            "_view_module_version": "1.2.0",
            "_view_name": "StyleView",
            "description_width": ""
          }
        },
        "5e5fc5e4e56c47b8bab94e303ab0115f": {
          "model_module": "@jupyter-widgets/controls",
          "model_name": "HBoxModel",
          "model_module_version": "1.5.0",
          "state": {
            "_dom_classes": [],
            "_model_module": "@jupyter-widgets/controls",
            "_model_module_version": "1.5.0",
            "_model_name": "HBoxModel",
            "_view_count": null,
            "_view_module": "@jupyter-widgets/controls",
            "_view_module_version": "1.5.0",
            "_view_name": "HBoxView",
            "box_style": "",
            "children": [
              "IPY_MODEL_d4e77d9d151e4dfd827e9d617f31e623",
              "IPY_MODEL_7f46cea0d4f74b95baf78d355de079d7",
              "IPY_MODEL_e1c5e645df55456681ee515df89c5b7f"
            ],
            "layout": "IPY_MODEL_6d772f3a402e4b3f8a52f720c74d1fa7"
          }
        },
        "d4e77d9d151e4dfd827e9d617f31e623": {
          "model_module": "@jupyter-widgets/controls",
          "model_name": "HTMLModel",
          "model_module_version": "1.5.0",
          "state": {
            "_dom_classes": [],
            "_model_module": "@jupyter-widgets/controls",
            "_model_module_version": "1.5.0",
            "_model_name": "HTMLModel",
            "_view_count": null,
            "_view_module": "@jupyter-widgets/controls",
            "_view_module_version": "1.5.0",
            "_view_name": "HTMLView",
            "description": "",
            "description_tooltip": null,
            "layout": "IPY_MODEL_a6eb8111e26841beb38861d275c25719",
            "placeholder": "​",
            "style": "IPY_MODEL_6aada95aeb89451793ecdf4aa364a938",
            "value": ""
          }
        },
        "7f46cea0d4f74b95baf78d355de079d7": {
          "model_module": "@jupyter-widgets/controls",
          "model_name": "FloatProgressModel",
          "model_module_version": "1.5.0",
          "state": {
            "_dom_classes": [],
            "_model_module": "@jupyter-widgets/controls",
            "_model_module_version": "1.5.0",
            "_model_name": "FloatProgressModel",
            "_view_count": null,
            "_view_module": "@jupyter-widgets/controls",
            "_view_module_version": "1.5.0",
            "_view_name": "ProgressView",
            "bar_style": "success",
            "description": "",
            "description_tooltip": null,
            "layout": "IPY_MODEL_4e497ab811c14d80a95bdbd8ebde4ee7",
            "max": 1,
            "min": 0,
            "orientation": "horizontal",
            "style": "IPY_MODEL_03c89464503d43b89e3ea379405890ac",
            "value": 1
          }
        },
        "e1c5e645df55456681ee515df89c5b7f": {
          "model_module": "@jupyter-widgets/controls",
          "model_name": "HTMLModel",
          "model_module_version": "1.5.0",
          "state": {
            "_dom_classes": [],
            "_model_module": "@jupyter-widgets/controls",
            "_model_module_version": "1.5.0",
            "_model_name": "HTMLModel",
            "_view_count": null,
            "_view_module": "@jupyter-widgets/controls",
            "_view_module_version": "1.5.0",
            "_view_name": "HTMLView",
            "description": "",
            "description_tooltip": null,
            "layout": "IPY_MODEL_d3eb917f761d40b195b0e5ccd02b95c3",
            "placeholder": "​",
            "style": "IPY_MODEL_e11317fd2cab49979c539dd26bfe0c60",
            "value": " 18/? [00:03&lt;00:00,  4.73it/s]"
          }
        },
        "6d772f3a402e4b3f8a52f720c74d1fa7": {
          "model_module": "@jupyter-widgets/base",
          "model_name": "LayoutModel",
          "model_module_version": "1.2.0",
          "state": {
            "_model_module": "@jupyter-widgets/base",
            "_model_module_version": "1.2.0",
            "_model_name": "LayoutModel",
            "_view_count": null,
            "_view_module": "@jupyter-widgets/base",
            "_view_module_version": "1.2.0",
            "_view_name": "LayoutView",
            "align_content": null,
            "align_items": null,
            "align_self": null,
            "border": null,
            "bottom": null,
            "display": null,
            "flex": null,
            "flex_flow": null,
            "grid_area": null,
            "grid_auto_columns": null,
            "grid_auto_flow": null,
            "grid_auto_rows": null,
            "grid_column": null,
            "grid_gap": null,
            "grid_row": null,
            "grid_template_areas": null,
            "grid_template_columns": null,
            "grid_template_rows": null,
            "height": null,
            "justify_content": null,
            "justify_items": null,
            "left": null,
            "margin": null,
            "max_height": null,
            "max_width": null,
            "min_height": null,
            "min_width": null,
            "object_fit": null,
            "object_position": null,
            "order": null,
            "overflow": null,
            "overflow_x": null,
            "overflow_y": null,
            "padding": null,
            "right": null,
            "top": null,
            "visibility": null,
            "width": null
          }
        },
        "a6eb8111e26841beb38861d275c25719": {
          "model_module": "@jupyter-widgets/base",
          "model_name": "LayoutModel",
          "model_module_version": "1.2.0",
          "state": {
            "_model_module": "@jupyter-widgets/base",
            "_model_module_version": "1.2.0",
            "_model_name": "LayoutModel",
            "_view_count": null,
            "_view_module": "@jupyter-widgets/base",
            "_view_module_version": "1.2.0",
            "_view_name": "LayoutView",
            "align_content": null,
            "align_items": null,
            "align_self": null,
            "border": null,
            "bottom": null,
            "display": null,
            "flex": null,
            "flex_flow": null,
            "grid_area": null,
            "grid_auto_columns": null,
            "grid_auto_flow": null,
            "grid_auto_rows": null,
            "grid_column": null,
            "grid_gap": null,
            "grid_row": null,
            "grid_template_areas": null,
            "grid_template_columns": null,
            "grid_template_rows": null,
            "height": null,
            "justify_content": null,
            "justify_items": null,
            "left": null,
            "margin": null,
            "max_height": null,
            "max_width": null,
            "min_height": null,
            "min_width": null,
            "object_fit": null,
            "object_position": null,
            "order": null,
            "overflow": null,
            "overflow_x": null,
            "overflow_y": null,
            "padding": null,
            "right": null,
            "top": null,
            "visibility": null,
            "width": null
          }
        },
        "6aada95aeb89451793ecdf4aa364a938": {
          "model_module": "@jupyter-widgets/controls",
          "model_name": "DescriptionStyleModel",
          "model_module_version": "1.5.0",
          "state": {
            "_model_module": "@jupyter-widgets/controls",
            "_model_module_version": "1.5.0",
            "_model_name": "DescriptionStyleModel",
            "_view_count": null,
            "_view_module": "@jupyter-widgets/base",
            "_view_module_version": "1.2.0",
            "_view_name": "StyleView",
            "description_width": ""
          }
        },
        "4e497ab811c14d80a95bdbd8ebde4ee7": {
          "model_module": "@jupyter-widgets/base",
          "model_name": "LayoutModel",
          "model_module_version": "1.2.0",
          "state": {
            "_model_module": "@jupyter-widgets/base",
            "_model_module_version": "1.2.0",
            "_model_name": "LayoutModel",
            "_view_count": null,
            "_view_module": "@jupyter-widgets/base",
            "_view_module_version": "1.2.0",
            "_view_name": "LayoutView",
            "align_content": null,
            "align_items": null,
            "align_self": null,
            "border": null,
            "bottom": null,
            "display": null,
            "flex": null,
            "flex_flow": null,
            "grid_area": null,
            "grid_auto_columns": null,
            "grid_auto_flow": null,
            "grid_auto_rows": null,
            "grid_column": null,
            "grid_gap": null,
            "grid_row": null,
            "grid_template_areas": null,
            "grid_template_columns": null,
            "grid_template_rows": null,
            "height": null,
            "justify_content": null,
            "justify_items": null,
            "left": null,
            "margin": null,
            "max_height": null,
            "max_width": null,
            "min_height": null,
            "min_width": null,
            "object_fit": null,
            "object_position": null,
            "order": null,
            "overflow": null,
            "overflow_x": null,
            "overflow_y": null,
            "padding": null,
            "right": null,
            "top": null,
            "visibility": null,
            "width": "20px"
          }
        },
        "03c89464503d43b89e3ea379405890ac": {
          "model_module": "@jupyter-widgets/controls",
          "model_name": "ProgressStyleModel",
          "model_module_version": "1.5.0",
          "state": {
            "_model_module": "@jupyter-widgets/controls",
            "_model_module_version": "1.5.0",
            "_model_name": "ProgressStyleModel",
            "_view_count": null,
            "_view_module": "@jupyter-widgets/base",
            "_view_module_version": "1.2.0",
            "_view_name": "StyleView",
            "bar_color": null,
            "description_width": ""
          }
        },
        "d3eb917f761d40b195b0e5ccd02b95c3": {
          "model_module": "@jupyter-widgets/base",
          "model_name": "LayoutModel",
          "model_module_version": "1.2.0",
          "state": {
            "_model_module": "@jupyter-widgets/base",
            "_model_module_version": "1.2.0",
            "_model_name": "LayoutModel",
            "_view_count": null,
            "_view_module": "@jupyter-widgets/base",
            "_view_module_version": "1.2.0",
            "_view_name": "LayoutView",
            "align_content": null,
            "align_items": null,
            "align_self": null,
            "border": null,
            "bottom": null,
            "display": null,
            "flex": null,
            "flex_flow": null,
            "grid_area": null,
            "grid_auto_columns": null,
            "grid_auto_flow": null,
            "grid_auto_rows": null,
            "grid_column": null,
            "grid_gap": null,
            "grid_row": null,
            "grid_template_areas": null,
            "grid_template_columns": null,
            "grid_template_rows": null,
            "height": null,
            "justify_content": null,
            "justify_items": null,
            "left": null,
            "margin": null,
            "max_height": null,
            "max_width": null,
            "min_height": null,
            "min_width": null,
            "object_fit": null,
            "object_position": null,
            "order": null,
            "overflow": null,
            "overflow_x": null,
            "overflow_y": null,
            "padding": null,
            "right": null,
            "top": null,
            "visibility": null,
            "width": null
          }
        },
        "e11317fd2cab49979c539dd26bfe0c60": {
          "model_module": "@jupyter-widgets/controls",
          "model_name": "DescriptionStyleModel",
          "model_module_version": "1.5.0",
          "state": {
            "_model_module": "@jupyter-widgets/controls",
            "_model_module_version": "1.5.0",
            "_model_name": "DescriptionStyleModel",
            "_view_count": null,
            "_view_module": "@jupyter-widgets/base",
            "_view_module_version": "1.2.0",
            "_view_name": "StyleView",
            "description_width": ""
          }
        }
      }
    },
    "gpuClass": "standard",
    "accelerator": "GPU"
  },
  "nbformat": 4,
  "nbformat_minor": 0
}